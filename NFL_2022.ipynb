{
  "cells": [
    {
      "cell_type": "markdown",
      "metadata": {
        "id": "view-in-github",
        "colab_type": "text"
      },
      "source": [
        "<a href=\"https://colab.research.google.com/github/sawantdayanand8/Web-Scrapping/blob/main/NFL_2022.ipynb\" target=\"_parent\"><img src=\"https://colab.research.google.com/assets/colab-badge.svg\" alt=\"Open In Colab\"/></a>"
      ]
    },
    {
      "cell_type": "code",
      "execution_count": null,
      "id": "f98f97b0",
      "metadata": {
        "id": "f98f97b0"
      },
      "outputs": [],
      "source": [
        "import requests\n",
        "from bs4 import BeautifulSoup"
      ]
    },
    {
      "cell_type": "code",
      "execution_count": null,
      "id": "f376cabd",
      "metadata": {
        "id": "f376cabd"
      },
      "outputs": [],
      "source": [
        "import pandas as pd"
      ]
    },
    {
      "cell_type": "code",
      "execution_count": null,
      "id": "cb2a6775",
      "metadata": {
        "id": "cb2a6775"
      },
      "outputs": [],
      "source": [
        "url=\"https://www.nfl.com/stats/player-stats/\"\n",
        "response=requests.get(url)"
      ]
    },
    {
      "cell_type": "code",
      "execution_count": null,
      "id": "9e0231d1",
      "metadata": {
        "id": "9e0231d1",
        "outputId": "d6069df5-9bd7-4e97-ff74-84a2631aa6ed"
      },
      "outputs": [
        {
          "data": {
            "text/plain": [
              "<Response [200]>"
            ]
          },
          "execution_count": 4,
          "metadata": {},
          "output_type": "execute_result"
        }
      ],
      "source": [
        "response"
      ]
    },
    {
      "cell_type": "code",
      "execution_count": null,
      "id": "caaf7e85",
      "metadata": {
        "id": "caaf7e85"
      },
      "outputs": [],
      "source": [
        "soup=BeautifulSoup(response.content,\"lxml\")"
      ]
    },
    {
      "cell_type": "code",
      "execution_count": null,
      "id": "d488a349",
      "metadata": {
        "id": "d488a349"
      },
      "outputs": [],
      "source": [
        "#print(soup.prettify())"
      ]
    },
    {
      "cell_type": "code",
      "execution_count": null,
      "id": "cb0f365a",
      "metadata": {
        "id": "cb0f365a"
      },
      "outputs": [],
      "source": [
        "table=soup.find(\"table\")"
      ]
    },
    {
      "cell_type": "code",
      "execution_count": null,
      "id": "9da1723a",
      "metadata": {
        "id": "9da1723a"
      },
      "outputs": [],
      "source": [
        "#table.text"
      ]
    },
    {
      "cell_type": "code",
      "execution_count": null,
      "id": "bdef70fc",
      "metadata": {
        "id": "bdef70fc",
        "outputId": "9605453b-93c4-4f00-aaf8-61df78565e7a"
      },
      "outputs": [
        {
          "data": {
            "text/plain": [
              "<title>NFL 2022 Player Stats | passing Stats | NFL.com</title>"
            ]
          },
          "execution_count": 9,
          "metadata": {},
          "output_type": "execute_result"
        }
      ],
      "source": [
        "title=soup.find(\"title\")\n",
        "title"
      ]
    },
    {
      "cell_type": "code",
      "execution_count": null,
      "id": "854d861f",
      "metadata": {
        "id": "854d861f",
        "outputId": "3cda5c57-1986-4e91-fe49-5ab0f626deb5"
      },
      "outputs": [
        {
          "data": {
            "text/plain": [
              "<tbody><tr><td scope=\"row\" tabindex=\"0\"><div class=\"d3-o-media-object d3-o-media-object--vertical-center\"><figure class=\"d3-o-media-object__figure d3-o-player-headshot\"><picture is-lazy=\"/t_lazy\"><!--[if IE 9]><video style=\"display:none\"><![endif]--><source media=\"(min-width:1024px)\" srcset=\"https://static.www.nfl.com/image/private/t_headshot_desktop/t_lazy/f_auto/league/vs40h82nvqaqvyephwwu 1x, https://static.www.nfl.com/image/private/t_headshot_desktop_2x/t_lazy/f_auto/league/vs40h82nvqaqvyephwwu 2x, https://static.www.nfl.com/image/private/t_headshot_desktop_3x/t_lazy/f_auto/league/vs40h82nvqaqvyephwwu\"><source media=\"(min-width:768px)\" srcset=\"https://static.www.nfl.com/image/private/t_headshot_tablet/t_lazy/f_auto/league/vs40h82nvqaqvyephwwu 1x, https://static.www.nfl.com/image/private/t_headshot_tablet_2x/t_lazy/f_auto/league/vs40h82nvqaqvyephwwu 2x, https://static.www.nfl.com/image/private/t_headshot_tablet_3x/t_lazy/f_auto/league/vs40h82nvqaqvyephwwu\"><source srcset=\"https://static.www.nfl.com/image/private/t_person_squared_mobile/t_lazy/f_auto/league/vs40h82nvqaqvyephwwu 1x, https://static.www.nfl.com/image/private/t_person_squared_mobile_2x/t_lazy/f_auto/league/vs40h82nvqaqvyephwwu 2x, https://static.www.nfl.com/image/private/t_person_squared_mobile_3x/t_lazy/f_auto/league/vs40h82nvqaqvyephwwu\"><!--[if IE 9]></video><![endif]--><img alt=\"\" class=\"img-responsive\" src=\"https://static.www.nfl.com/image/private/t_person_squared_mobile/t_lazy/f_auto/league/vs40h82nvqaqvyephwwu\"/></source></source></source></picture></figure><div class=\"d3-o-media-object__body\"><a aria-label=\"Patrick Mahomes profile page\" class=\"d3-o-player-fullname nfl-o-cta--link\" href=\"/players/patrick-mahomes/\"> Patrick Mahomes </a></div></div></td><td class=\"selected\">5250</td><td>8.1</td><td>648</td><td>435</td><td>67.1</td><td>41</td><td>12</td><td>105.2</td><td>272</td><td>42</td><td>73</td><td>13</td><td>67</td><td>26</td><td>188</td></tr><tr><td scope=\"row\" tabindex=\"0\"><div class=\"d3-o-media-object d3-o-media-object--vertical-center\"><figure class=\"d3-o-media-object__figure d3-o-player-headshot\"><picture is-lazy=\"/t_lazy\"><!--[if IE 9]><video style=\"display:none\"><![endif]--><source media=\"(min-width:1024px)\" srcset=\"https://static.www.nfl.com/image/private/t_headshot_desktop/t_lazy/f_auto/league/qknkhe4w6liovjubzmnh 1x, https://static.www.nfl.com/image/private/t_headshot_desktop_2x/t_lazy/f_auto/league/qknkhe4w6liovjubzmnh 2x, https://static.www.nfl.com/image/private/t_headshot_desktop_3x/t_lazy/f_auto/league/qknkhe4w6liovjubzmnh\"><source media=\"(min-width:768px)\" srcset=\"https://static.www.nfl.com/image/private/t_headshot_tablet/t_lazy/f_auto/league/qknkhe4w6liovjubzmnh 1x, https://static.www.nfl.com/image/private/t_headshot_tablet_2x/t_lazy/f_auto/league/qknkhe4w6liovjubzmnh 2x, https://static.www.nfl.com/image/private/t_headshot_tablet_3x/t_lazy/f_auto/league/qknkhe4w6liovjubzmnh\"><source srcset=\"https://static.www.nfl.com/image/private/t_person_squared_mobile/t_lazy/f_auto/league/qknkhe4w6liovjubzmnh 1x, https://static.www.nfl.com/image/private/t_person_squared_mobile_2x/t_lazy/f_auto/league/qknkhe4w6liovjubzmnh 2x, https://static.www.nfl.com/image/private/t_person_squared_mobile_3x/t_lazy/f_auto/league/qknkhe4w6liovjubzmnh\"><!--[if IE 9]></video><![endif]--><img alt=\"\" class=\"img-responsive\" src=\"https://static.www.nfl.com/image/private/t_person_squared_mobile/t_lazy/f_auto/league/qknkhe4w6liovjubzmnh\"/></source></source></source></picture></figure><div class=\"d3-o-media-object__body\"><a aria-label=\"Justin Herbert profile page\" class=\"d3-o-player-fullname nfl-o-cta--link\" href=\"/players/justin-herbert/\"> Justin Herbert </a></div></div></td><td class=\"selected\">4739</td><td>6.8</td><td>699</td><td>477</td><td>68.2</td><td>25</td><td>10</td><td>93.2</td><td>228</td><td>32.6</td><td>50</td><td>7</td><td>55</td><td>38</td><td>206</td></tr><tr><td scope=\"row\" tabindex=\"0\"><div class=\"d3-o-media-object d3-o-media-object--vertical-center\"><figure class=\"d3-o-media-object__figure d3-o-player-headshot\"><picture is-lazy=\"/t_lazy\"><!--[if IE 9]><video style=\"display:none\"><![endif]--><source media=\"(min-width:1024px)\" srcset=\"https://static.www.nfl.com/image/private/t_headshot_desktop/t_lazy/f_auto/league/q7dpdlxyu5rs05rgh1le 1x, https://static.www.nfl.com/image/private/t_headshot_desktop_2x/t_lazy/f_auto/league/q7dpdlxyu5rs05rgh1le 2x, https://static.www.nfl.com/image/private/t_headshot_desktop_3x/t_lazy/f_auto/league/q7dpdlxyu5rs05rgh1le\"><source media=\"(min-width:768px)\" srcset=\"https://static.www.nfl.com/image/private/t_headshot_tablet/t_lazy/f_auto/league/q7dpdlxyu5rs05rgh1le 1x, https://static.www.nfl.com/image/private/t_headshot_tablet_2x/t_lazy/f_auto/league/q7dpdlxyu5rs05rgh1le 2x, https://static.www.nfl.com/image/private/t_headshot_tablet_3x/t_lazy/f_auto/league/q7dpdlxyu5rs05rgh1le\"><source srcset=\"https://static.www.nfl.com/image/private/t_person_squared_mobile/t_lazy/f_auto/league/q7dpdlxyu5rs05rgh1le 1x, https://static.www.nfl.com/image/private/t_person_squared_mobile_2x/t_lazy/f_auto/league/q7dpdlxyu5rs05rgh1le 2x, https://static.www.nfl.com/image/private/t_person_squared_mobile_3x/t_lazy/f_auto/league/q7dpdlxyu5rs05rgh1le\"><!--[if IE 9]></video><![endif]--><img alt=\"\" class=\"img-responsive\" src=\"https://static.www.nfl.com/image/private/t_person_squared_mobile/t_lazy/f_auto/league/q7dpdlxyu5rs05rgh1le\"/></source></source></source></picture></figure><div class=\"d3-o-media-object__body\"><a aria-label=\"Tom Brady profile page\" class=\"d3-o-player-fullname nfl-o-cta--link\" href=\"/players/tom-brady/\"> Tom Brady </a></div></div></td><td class=\"selected\">4694</td><td>6.4</td><td>733</td><td>490</td><td>66.8</td><td>25</td><td>9</td><td>90.7</td><td>237</td><td>32.3</td><td>50</td><td>8</td><td>63</td><td>22</td><td>160</td></tr><tr><td scope=\"row\" tabindex=\"0\"><div class=\"d3-o-media-object d3-o-media-object--vertical-center\"><figure class=\"d3-o-media-object__figure d3-o-player-headshot\"><picture is-lazy=\"/t_lazy\"><!--[if IE 9]><video style=\"display:none\"><![endif]--><source media=\"(min-width:1024px)\" srcset=\"https://static.www.nfl.com/image/private/t_headshot_desktop/t_lazy/f_auto/league/h9ndf9ralxifgjvot2q4 1x, https://static.www.nfl.com/image/private/t_headshot_desktop_2x/t_lazy/f_auto/league/h9ndf9ralxifgjvot2q4 2x, https://static.www.nfl.com/image/private/t_headshot_desktop_3x/t_lazy/f_auto/league/h9ndf9ralxifgjvot2q4\"><source media=\"(min-width:768px)\" srcset=\"https://static.www.nfl.com/image/private/t_headshot_tablet/t_lazy/f_auto/league/h9ndf9ralxifgjvot2q4 1x, https://static.www.nfl.com/image/private/t_headshot_tablet_2x/t_lazy/f_auto/league/h9ndf9ralxifgjvot2q4 2x, https://static.www.nfl.com/image/private/t_headshot_tablet_3x/t_lazy/f_auto/league/h9ndf9ralxifgjvot2q4\"><source srcset=\"https://static.www.nfl.com/image/private/t_person_squared_mobile/t_lazy/f_auto/league/h9ndf9ralxifgjvot2q4 1x, https://static.www.nfl.com/image/private/t_person_squared_mobile_2x/t_lazy/f_auto/league/h9ndf9ralxifgjvot2q4 2x, https://static.www.nfl.com/image/private/t_person_squared_mobile_3x/t_lazy/f_auto/league/h9ndf9ralxifgjvot2q4\"><!--[if IE 9]></video><![endif]--><img alt=\"\" class=\"img-responsive\" src=\"https://static.www.nfl.com/image/private/t_person_squared_mobile/t_lazy/f_auto/league/h9ndf9ralxifgjvot2q4\"/></source></source></source></picture></figure><div class=\"d3-o-media-object__body\"><a aria-label=\"Kirk Cousins profile page\" class=\"d3-o-player-fullname nfl-o-cta--link\" href=\"/players/kirk-cousins/\"> Kirk Cousins </a></div></div></td><td class=\"selected\">4547</td><td>7.1</td><td>643</td><td>424</td><td>65.9</td><td>29</td><td>14</td><td>92.5</td><td>230</td><td>35.8</td><td>47</td><td>10</td><td>66</td><td>46</td><td>329</td></tr><tr><td scope=\"row\" tabindex=\"0\"><div class=\"d3-o-media-object d3-o-media-object--vertical-center\"><figure class=\"d3-o-media-object__figure d3-o-player-headshot\"><picture is-lazy=\"/t_lazy\"><!--[if IE 9]><video style=\"display:none\"><![endif]--><source media=\"(min-width:1024px)\" srcset=\"https://static.www.nfl.com/image/private/t_headshot_desktop/t_lazy/f_auto/league/pbl27kxsr5ulgxmvtvfn 1x, https://static.www.nfl.com/image/private/t_headshot_desktop_2x/t_lazy/f_auto/league/pbl27kxsr5ulgxmvtvfn 2x, https://static.www.nfl.com/image/private/t_headshot_desktop_3x/t_lazy/f_auto/league/pbl27kxsr5ulgxmvtvfn\"><source media=\"(min-width:768px)\" srcset=\"https://static.www.nfl.com/image/private/t_headshot_tablet/t_lazy/f_auto/league/pbl27kxsr5ulgxmvtvfn 1x, https://static.www.nfl.com/image/private/t_headshot_tablet_2x/t_lazy/f_auto/league/pbl27kxsr5ulgxmvtvfn 2x, https://static.www.nfl.com/image/private/t_headshot_tablet_3x/t_lazy/f_auto/league/pbl27kxsr5ulgxmvtvfn\"><source srcset=\"https://static.www.nfl.com/image/private/t_person_squared_mobile/t_lazy/f_auto/league/pbl27kxsr5ulgxmvtvfn 1x, https://static.www.nfl.com/image/private/t_person_squared_mobile_2x/t_lazy/f_auto/league/pbl27kxsr5ulgxmvtvfn 2x, https://static.www.nfl.com/image/private/t_person_squared_mobile_3x/t_lazy/f_auto/league/pbl27kxsr5ulgxmvtvfn\"><!--[if IE 9]></video><![endif]--><img alt=\"\" class=\"img-responsive\" src=\"https://static.www.nfl.com/image/private/t_person_squared_mobile/t_lazy/f_auto/league/pbl27kxsr5ulgxmvtvfn\"/></source></source></source></picture></figure><div class=\"d3-o-media-object__body\"><a aria-label=\"Joe Burrow profile page\" class=\"d3-o-player-fullname nfl-o-cta--link\" href=\"/players/joe-burrow/\"> Joe Burrow </a></div></div></td><td class=\"selected\">4475</td><td>7.4</td><td>606</td><td>414</td><td>68.3</td><td>35</td><td>12</td><td>100.8</td><td>219</td><td>36.1</td><td>53</td><td>10</td><td>60</td><td>41</td><td>259</td></tr><tr><td scope=\"row\" tabindex=\"0\"><div class=\"d3-o-media-object d3-o-media-object--vertical-center\"><figure class=\"d3-o-media-object__figure d3-o-player-headshot\"><picture is-lazy=\"/t_lazy\"><!--[if IE 9]><video style=\"display:none\"><![endif]--><source media=\"(min-width:1024px)\" srcset=\"https://static.www.nfl.com/image/private/t_headshot_desktop/t_lazy/f_auto/league/s4hzfab5iglq2tmjb0xy 1x, https://static.www.nfl.com/image/private/t_headshot_desktop_2x/t_lazy/f_auto/league/s4hzfab5iglq2tmjb0xy 2x, https://static.www.nfl.com/image/private/t_headshot_desktop_3x/t_lazy/f_auto/league/s4hzfab5iglq2tmjb0xy\"><source media=\"(min-width:768px)\" srcset=\"https://static.www.nfl.com/image/private/t_headshot_tablet/t_lazy/f_auto/league/s4hzfab5iglq2tmjb0xy 1x, https://static.www.nfl.com/image/private/t_headshot_tablet_2x/t_lazy/f_auto/league/s4hzfab5iglq2tmjb0xy 2x, https://static.www.nfl.com/image/private/t_headshot_tablet_3x/t_lazy/f_auto/league/s4hzfab5iglq2tmjb0xy\"><source srcset=\"https://static.www.nfl.com/image/private/t_person_squared_mobile/t_lazy/f_auto/league/s4hzfab5iglq2tmjb0xy 1x, https://static.www.nfl.com/image/private/t_person_squared_mobile_2x/t_lazy/f_auto/league/s4hzfab5iglq2tmjb0xy 2x, https://static.www.nfl.com/image/private/t_person_squared_mobile_3x/t_lazy/f_auto/league/s4hzfab5iglq2tmjb0xy\"><!--[if IE 9]></video><![endif]--><img alt=\"\" class=\"img-responsive\" src=\"https://static.www.nfl.com/image/private/t_person_squared_mobile/t_lazy/f_auto/league/s4hzfab5iglq2tmjb0xy\"/></source></source></source></picture></figure><div class=\"d3-o-media-object__body\"><a aria-label=\"Jared Goff profile page\" class=\"d3-o-player-fullname nfl-o-cta--link\" href=\"/players/jared-goff/\"> Jared Goff </a></div></div></td><td class=\"selected\">4438</td><td>7.6</td><td>587</td><td>382</td><td>65.1</td><td>29</td><td>7</td><td>99.3</td><td>227</td><td>38.7</td><td>57</td><td>12</td><td>81</td><td>23</td><td>156</td></tr><tr><td scope=\"row\" tabindex=\"0\"><div class=\"d3-o-media-object d3-o-media-object--vertical-center\"><figure class=\"d3-o-media-object__figure d3-o-player-headshot\"><picture is-lazy=\"/t_lazy\"><!--[if IE 9]><video style=\"display:none\"><![endif]--><source media=\"(min-width:1024px)\" srcset=\"https://static.www.nfl.com/image/private/t_headshot_desktop/t_lazy/f_auto/league/btfnqtymqsqgybnv4u6n 1x, https://static.www.nfl.com/image/private/t_headshot_desktop_2x/t_lazy/f_auto/league/btfnqtymqsqgybnv4u6n 2x, https://static.www.nfl.com/image/private/t_headshot_desktop_3x/t_lazy/f_auto/league/btfnqtymqsqgybnv4u6n\"><source media=\"(min-width:768px)\" srcset=\"https://static.www.nfl.com/image/private/t_headshot_tablet/t_lazy/f_auto/league/btfnqtymqsqgybnv4u6n 1x, https://static.www.nfl.com/image/private/t_headshot_tablet_2x/t_lazy/f_auto/league/btfnqtymqsqgybnv4u6n 2x, https://static.www.nfl.com/image/private/t_headshot_tablet_3x/t_lazy/f_auto/league/btfnqtymqsqgybnv4u6n\"><source srcset=\"https://static.www.nfl.com/image/private/t_person_squared_mobile/t_lazy/f_auto/league/btfnqtymqsqgybnv4u6n 1x, https://static.www.nfl.com/image/private/t_person_squared_mobile_2x/t_lazy/f_auto/league/btfnqtymqsqgybnv4u6n 2x, https://static.www.nfl.com/image/private/t_person_squared_mobile_3x/t_lazy/f_auto/league/btfnqtymqsqgybnv4u6n\"><!--[if IE 9]></video><![endif]--><img alt=\"\" class=\"img-responsive\" src=\"https://static.www.nfl.com/image/private/t_person_squared_mobile/t_lazy/f_auto/league/btfnqtymqsqgybnv4u6n\"/></source></source></source></picture></figure><div class=\"d3-o-media-object__body\"><a aria-label=\"Josh Allen profile page\" class=\"d3-o-player-fullname nfl-o-cta--link\" href=\"/players/josh-allen-4/\"> Josh Allen </a></div></div></td><td class=\"selected\">4283</td><td>7.6</td><td>567</td><td>359</td><td>63.3</td><td>35</td><td>14</td><td>96.6</td><td>212</td><td>37.4</td><td>51</td><td>12</td><td>98</td><td>33</td><td>162</td></tr><tr><td scope=\"row\" tabindex=\"0\"><div class=\"d3-o-media-object d3-o-media-object--vertical-center\"><figure class=\"d3-o-media-object__figure d3-o-player-headshot\"><picture is-lazy=\"/t_lazy\"><!--[if IE 9]><video style=\"display:none\"><![endif]--><source media=\"(min-width:1024px)\" srcset=\"https://static.www.nfl.com/image/private/t_headshot_desktop/t_lazy/f_auto/league/vxnzv7tz7ntlmpthfb42 1x, https://static.www.nfl.com/image/private/t_headshot_desktop_2x/t_lazy/f_auto/league/vxnzv7tz7ntlmpthfb42 2x, https://static.www.nfl.com/image/private/t_headshot_desktop_3x/t_lazy/f_auto/league/vxnzv7tz7ntlmpthfb42\"><source media=\"(min-width:768px)\" srcset=\"https://static.www.nfl.com/image/private/t_headshot_tablet/t_lazy/f_auto/league/vxnzv7tz7ntlmpthfb42 1x, https://static.www.nfl.com/image/private/t_headshot_tablet_2x/t_lazy/f_auto/league/vxnzv7tz7ntlmpthfb42 2x, https://static.www.nfl.com/image/private/t_headshot_tablet_3x/t_lazy/f_auto/league/vxnzv7tz7ntlmpthfb42\"><source srcset=\"https://static.www.nfl.com/image/private/t_person_squared_mobile/t_lazy/f_auto/league/vxnzv7tz7ntlmpthfb42 1x, https://static.www.nfl.com/image/private/t_person_squared_mobile_2x/t_lazy/f_auto/league/vxnzv7tz7ntlmpthfb42 2x, https://static.www.nfl.com/image/private/t_person_squared_mobile_3x/t_lazy/f_auto/league/vxnzv7tz7ntlmpthfb42\"><!--[if IE 9]></video><![endif]--><img alt=\"\" class=\"img-responsive\" src=\"https://static.www.nfl.com/image/private/t_person_squared_mobile/t_lazy/f_auto/league/vxnzv7tz7ntlmpthfb42\"/></source></source></source></picture></figure><div class=\"d3-o-media-object__body\"><a aria-label=\"Geno Smith profile page\" class=\"d3-o-player-fullname nfl-o-cta--link\" href=\"/players/geno-smith/\"> Geno Smith </a></div></div></td><td class=\"selected\">4282</td><td>7.5</td><td>572</td><td>399</td><td>69.8</td><td>30</td><td>11</td><td>100.9</td><td>206</td><td>36</td><td>50</td><td>6</td><td>54</td><td>46</td><td>348</td></tr><tr><td scope=\"row\" tabindex=\"0\"><div class=\"d3-o-media-object d3-o-media-object--vertical-center\"><figure class=\"d3-o-media-object__figure d3-o-player-headshot\"><picture is-lazy=\"/t_lazy\"><!--[if IE 9]><video style=\"display:none\"><![endif]--><source media=\"(min-width:1024px)\" srcset=\"https://static.www.nfl.com/image/private/t_headshot_desktop/t_lazy/f_auto/league/nel2x2crpaasltsb6vwj 1x, https://static.www.nfl.com/image/private/t_headshot_desktop_2x/t_lazy/f_auto/league/nel2x2crpaasltsb6vwj 2x, https://static.www.nfl.com/image/private/t_headshot_desktop_3x/t_lazy/f_auto/league/nel2x2crpaasltsb6vwj\"><source media=\"(min-width:768px)\" srcset=\"https://static.www.nfl.com/image/private/t_headshot_tablet/t_lazy/f_auto/league/nel2x2crpaasltsb6vwj 1x, https://static.www.nfl.com/image/private/t_headshot_tablet_2x/t_lazy/f_auto/league/nel2x2crpaasltsb6vwj 2x, https://static.www.nfl.com/image/private/t_headshot_tablet_3x/t_lazy/f_auto/league/nel2x2crpaasltsb6vwj\"><source srcset=\"https://static.www.nfl.com/image/private/t_person_squared_mobile/t_lazy/f_auto/league/nel2x2crpaasltsb6vwj 1x, https://static.www.nfl.com/image/private/t_person_squared_mobile_2x/t_lazy/f_auto/league/nel2x2crpaasltsb6vwj 2x, https://static.www.nfl.com/image/private/t_person_squared_mobile_3x/t_lazy/f_auto/league/nel2x2crpaasltsb6vwj\"><!--[if IE 9]></video><![endif]--><img alt=\"\" class=\"img-responsive\" src=\"https://static.www.nfl.com/image/private/t_person_squared_mobile/t_lazy/f_auto/league/nel2x2crpaasltsb6vwj\"/></source></source></source></picture></figure><div class=\"d3-o-media-object__body\"><a aria-label=\"Trevor Lawrence profile page\" class=\"d3-o-player-fullname nfl-o-cta--link\" href=\"/players/trevor-lawrence/\"> Trevor Lawrence </a></div></div></td><td class=\"selected\">4113</td><td>7</td><td>584</td><td>387</td><td>66.3</td><td>25</td><td>8</td><td>95.2</td><td>206</td><td>35.3</td><td>55</td><td>3</td><td>59</td><td>27</td><td>184</td></tr><tr><td scope=\"row\" tabindex=\"0\"><div class=\"d3-o-media-object d3-o-media-object--vertical-center\"><figure class=\"d3-o-media-object__figure d3-o-player-headshot\"><picture is-lazy=\"/t_lazy\"><!--[if IE 9]><video style=\"display:none\"><![endif]--><source media=\"(min-width:1024px)\" srcset=\"https://static.www.nfl.com/image/private/t_headshot_desktop/t_lazy/f_auto/league/iv04omcunr78zezpnf8t 1x, https://static.www.nfl.com/image/private/t_headshot_desktop_2x/t_lazy/f_auto/league/iv04omcunr78zezpnf8t 2x, https://static.www.nfl.com/image/private/t_headshot_desktop_3x/t_lazy/f_auto/league/iv04omcunr78zezpnf8t\"><source media=\"(min-width:768px)\" srcset=\"https://static.www.nfl.com/image/private/t_headshot_tablet/t_lazy/f_auto/league/iv04omcunr78zezpnf8t 1x, https://static.www.nfl.com/image/private/t_headshot_tablet_2x/t_lazy/f_auto/league/iv04omcunr78zezpnf8t 2x, https://static.www.nfl.com/image/private/t_headshot_tablet_3x/t_lazy/f_auto/league/iv04omcunr78zezpnf8t\"><source srcset=\"https://static.www.nfl.com/image/private/t_person_squared_mobile/t_lazy/f_auto/league/iv04omcunr78zezpnf8t 1x, https://static.www.nfl.com/image/private/t_person_squared_mobile_2x/t_lazy/f_auto/league/iv04omcunr78zezpnf8t 2x, https://static.www.nfl.com/image/private/t_person_squared_mobile_3x/t_lazy/f_auto/league/iv04omcunr78zezpnf8t\"><!--[if IE 9]></video><![endif]--><img alt=\"\" class=\"img-responsive\" src=\"https://static.www.nfl.com/image/private/t_person_squared_mobile/t_lazy/f_auto/league/iv04omcunr78zezpnf8t\"/></source></source></source></picture></figure><div class=\"d3-o-media-object__body\"><a aria-label=\"Jalen Hurts profile page\" class=\"d3-o-player-fullname nfl-o-cta--link\" href=\"/players/jalen-hurts/\"> Jalen Hurts </a></div></div></td><td class=\"selected\">3701</td><td>8</td><td>460</td><td>306</td><td>66.5</td><td>22</td><td>6</td><td>101.6</td><td>165</td><td>35.9</td><td>52</td><td>11</td><td>68</td><td>38</td><td>231</td></tr><tr><td scope=\"row\" tabindex=\"0\"><div class=\"d3-o-media-object d3-o-media-object--vertical-center\"><figure class=\"d3-o-media-object__figure d3-o-player-headshot\"><picture is-lazy=\"/t_lazy\"><!--[if IE 9]><video style=\"display:none\"><![endif]--><source media=\"(min-width:1024px)\" srcset=\"https://static.www.nfl.com/image/private/t_headshot_desktop/t_lazy/f_auto/league/mee42twdk3qpcdotzdka 1x, https://static.www.nfl.com/image/private/t_headshot_desktop_2x/t_lazy/f_auto/league/mee42twdk3qpcdotzdka 2x, https://static.www.nfl.com/image/private/t_headshot_desktop_3x/t_lazy/f_auto/league/mee42twdk3qpcdotzdka\"><source media=\"(min-width:768px)\" srcset=\"https://static.www.nfl.com/image/private/t_headshot_tablet/t_lazy/f_auto/league/mee42twdk3qpcdotzdka 1x, https://static.www.nfl.com/image/private/t_headshot_tablet_2x/t_lazy/f_auto/league/mee42twdk3qpcdotzdka 2x, https://static.www.nfl.com/image/private/t_headshot_tablet_3x/t_lazy/f_auto/league/mee42twdk3qpcdotzdka\"><source srcset=\"https://static.www.nfl.com/image/private/t_person_squared_mobile/t_lazy/f_auto/league/mee42twdk3qpcdotzdka 1x, https://static.www.nfl.com/image/private/t_person_squared_mobile_2x/t_lazy/f_auto/league/mee42twdk3qpcdotzdka 2x, https://static.www.nfl.com/image/private/t_person_squared_mobile_3x/t_lazy/f_auto/league/mee42twdk3qpcdotzdka\"><!--[if IE 9]></video><![endif]--><img alt=\"\" class=\"img-responsive\" src=\"https://static.www.nfl.com/image/private/t_person_squared_mobile/t_lazy/f_auto/league/mee42twdk3qpcdotzdka\"/></source></source></source></picture></figure><div class=\"d3-o-media-object__body\"><a aria-label=\"Aaron Rodgers profile page\" class=\"d3-o-player-fullname nfl-o-cta--link\" href=\"/players/aaron-rodgers/\"> Aaron Rodgers </a></div></div></td><td class=\"selected\">3695</td><td>6.8</td><td>542</td><td>350</td><td>64.6</td><td>26</td><td>12</td><td>91.1</td><td>177</td><td>32.7</td><td>53</td><td>6</td><td>58</td><td>32</td><td>258</td></tr><tr><td scope=\"row\" tabindex=\"0\"><div class=\"d3-o-media-object d3-o-media-object--vertical-center\"><figure class=\"d3-o-media-object__figure d3-o-player-headshot\"><picture is-lazy=\"/t_lazy\"><!--[if IE 9]><video style=\"display:none\"><![endif]--><source media=\"(min-width:1024px)\" srcset=\"https://static.www.nfl.com/image/private/t_headshot_desktop/t_lazy/f_auto/league/dyrrl1knhcxqjwuvhcwm 1x, https://static.www.nfl.com/image/private/t_headshot_desktop_2x/t_lazy/f_auto/league/dyrrl1knhcxqjwuvhcwm 2x, https://static.www.nfl.com/image/private/t_headshot_desktop_3x/t_lazy/f_auto/league/dyrrl1knhcxqjwuvhcwm\"><source media=\"(min-width:768px)\" srcset=\"https://static.www.nfl.com/image/private/t_headshot_tablet/t_lazy/f_auto/league/dyrrl1knhcxqjwuvhcwm 1x, https://static.www.nfl.com/image/private/t_headshot_tablet_2x/t_lazy/f_auto/league/dyrrl1knhcxqjwuvhcwm 2x, https://static.www.nfl.com/image/private/t_headshot_tablet_3x/t_lazy/f_auto/league/dyrrl1knhcxqjwuvhcwm\"><source srcset=\"https://static.www.nfl.com/image/private/t_person_squared_mobile/t_lazy/f_auto/league/dyrrl1knhcxqjwuvhcwm 1x, https://static.www.nfl.com/image/private/t_person_squared_mobile_2x/t_lazy/f_auto/league/dyrrl1knhcxqjwuvhcwm 2x, https://static.www.nfl.com/image/private/t_person_squared_mobile_3x/t_lazy/f_auto/league/dyrrl1knhcxqjwuvhcwm\"><!--[if IE 9]></video><![endif]--><img alt=\"\" class=\"img-responsive\" src=\"https://static.www.nfl.com/image/private/t_person_squared_mobile/t_lazy/f_auto/league/dyrrl1knhcxqjwuvhcwm\"/></source></source></source></picture></figure><div class=\"d3-o-media-object__body\"><a aria-label=\"Tua Tagovailoa profile page\" class=\"d3-o-player-fullname nfl-o-cta--link\" href=\"/players/tua-tagovailoa/\"> Tua Tagovailoa </a></div></div></td><td class=\"selected\">3548</td><td>8.9</td><td>400</td><td>259</td><td>64.8</td><td>25</td><td>8</td><td>105.5</td><td>162</td><td>40.5</td><td>50</td><td>12</td><td>84</td><td>21</td><td>163</td></tr><tr><td scope=\"row\" tabindex=\"0\"><div class=\"d3-o-media-object d3-o-media-object--vertical-center\"><figure class=\"d3-o-media-object__figure d3-o-player-headshot\"><picture is-lazy=\"/t_lazy\"><!--[if IE 9]><video style=\"display:none\"><![endif]--><source media=\"(min-width:1024px)\" srcset=\"https://static.www.nfl.com/image/private/t_headshot_desktop/t_lazy/f_auto/league/gebzv2aljujgleboe4ns 1x, https://static.www.nfl.com/image/private/t_headshot_desktop_2x/t_lazy/f_auto/league/gebzv2aljujgleboe4ns 2x, https://static.www.nfl.com/image/private/t_headshot_desktop_3x/t_lazy/f_auto/league/gebzv2aljujgleboe4ns\"><source media=\"(min-width:768px)\" srcset=\"https://static.www.nfl.com/image/private/t_headshot_tablet/t_lazy/f_auto/league/gebzv2aljujgleboe4ns 1x, https://static.www.nfl.com/image/private/t_headshot_tablet_2x/t_lazy/f_auto/league/gebzv2aljujgleboe4ns 2x, https://static.www.nfl.com/image/private/t_headshot_tablet_3x/t_lazy/f_auto/league/gebzv2aljujgleboe4ns\"><source srcset=\"https://static.www.nfl.com/image/private/t_person_squared_mobile/t_lazy/f_auto/league/gebzv2aljujgleboe4ns 1x, https://static.www.nfl.com/image/private/t_person_squared_mobile_2x/t_lazy/f_auto/league/gebzv2aljujgleboe4ns 2x, https://static.www.nfl.com/image/private/t_person_squared_mobile_3x/t_lazy/f_auto/league/gebzv2aljujgleboe4ns\"><!--[if IE 9]></video><![endif]--><img alt=\"\" class=\"img-responsive\" src=\"https://static.www.nfl.com/image/private/t_person_squared_mobile/t_lazy/f_auto/league/gebzv2aljujgleboe4ns\"/></source></source></source></picture></figure><div class=\"d3-o-media-object__body\"><a aria-label=\"Russell Wilson profile page\" class=\"d3-o-player-fullname nfl-o-cta--link\" href=\"/players/russell-wilson/\"> Russell Wilson </a></div></div></td><td class=\"selected\">3524</td><td>7.3</td><td>483</td><td>292</td><td>60.5</td><td>16</td><td>11</td><td>84.4</td><td>142</td><td>29.4</td><td>54</td><td>11</td><td>67</td><td>55</td><td>368</td></tr><tr><td scope=\"row\" tabindex=\"0\"><div class=\"d3-o-media-object d3-o-media-object--vertical-center\"><figure class=\"d3-o-media-object__figure d3-o-player-headshot\"><picture is-lazy=\"/t_lazy\"><!--[if IE 9]><video style=\"display:none\"><![endif]--><source media=\"(min-width:1024px)\" srcset=\"https://static.www.nfl.com/image/private/t_headshot_desktop/t_lazy/f_auto/league/l1eqjrajbnisr91dmlcl 1x, https://static.www.nfl.com/image/private/t_headshot_desktop_2x/t_lazy/f_auto/league/l1eqjrajbnisr91dmlcl 2x, https://static.www.nfl.com/image/private/t_headshot_desktop_3x/t_lazy/f_auto/league/l1eqjrajbnisr91dmlcl\"><source media=\"(min-width:768px)\" srcset=\"https://static.www.nfl.com/image/private/t_headshot_tablet/t_lazy/f_auto/league/l1eqjrajbnisr91dmlcl 1x, https://static.www.nfl.com/image/private/t_headshot_tablet_2x/t_lazy/f_auto/league/l1eqjrajbnisr91dmlcl 2x, https://static.www.nfl.com/image/private/t_headshot_tablet_3x/t_lazy/f_auto/league/l1eqjrajbnisr91dmlcl\"><source srcset=\"https://static.www.nfl.com/image/private/t_person_squared_mobile/t_lazy/f_auto/league/l1eqjrajbnisr91dmlcl 1x, https://static.www.nfl.com/image/private/t_person_squared_mobile_2x/t_lazy/f_auto/league/l1eqjrajbnisr91dmlcl 2x, https://static.www.nfl.com/image/private/t_person_squared_mobile_3x/t_lazy/f_auto/league/l1eqjrajbnisr91dmlcl\"><!--[if IE 9]></video><![endif]--><img alt=\"\" class=\"img-responsive\" src=\"https://static.www.nfl.com/image/private/t_person_squared_mobile/t_lazy/f_auto/league/l1eqjrajbnisr91dmlcl\"/></source></source></source></picture></figure><div class=\"d3-o-media-object__body\"><a aria-label=\"Derek Carr profile page\" class=\"d3-o-player-fullname nfl-o-cta--link\" href=\"/players/derek-carr/\"> Derek Carr </a></div></div></td><td class=\"selected\">3522</td><td>7</td><td>502</td><td>305</td><td>60.8</td><td>24</td><td>14</td><td>86.3</td><td>161</td><td>32.1</td><td>47</td><td>8</td><td>60</td><td>27</td><td>191</td></tr><tr><td scope=\"row\" tabindex=\"0\"><div class=\"d3-o-media-object d3-o-media-object--vertical-center\"><figure class=\"d3-o-media-object__figure d3-o-player-headshot\"><picture is-lazy=\"/t_lazy\"><!--[if IE 9]><video style=\"display:none\"><![endif]--><source media=\"(min-width:1024px)\" srcset=\"https://static.www.nfl.com/image/private/t_headshot_desktop/t_lazy/f_auto/league/af6nbjqa6qubnu8oi4ms 1x, https://static.www.nfl.com/image/private/t_headshot_desktop_2x/t_lazy/f_auto/league/af6nbjqa6qubnu8oi4ms 2x, https://static.www.nfl.com/image/private/t_headshot_desktop_3x/t_lazy/f_auto/league/af6nbjqa6qubnu8oi4ms\"><source media=\"(min-width:768px)\" srcset=\"https://static.www.nfl.com/image/private/t_headshot_tablet/t_lazy/f_auto/league/af6nbjqa6qubnu8oi4ms 1x, https://static.www.nfl.com/image/private/t_headshot_tablet_2x/t_lazy/f_auto/league/af6nbjqa6qubnu8oi4ms 2x, https://static.www.nfl.com/image/private/t_headshot_tablet_3x/t_lazy/f_auto/league/af6nbjqa6qubnu8oi4ms\"><source srcset=\"https://static.www.nfl.com/image/private/t_person_squared_mobile/t_lazy/f_auto/league/af6nbjqa6qubnu8oi4ms 1x, https://static.www.nfl.com/image/private/t_person_squared_mobile_2x/t_lazy/f_auto/league/af6nbjqa6qubnu8oi4ms 2x, https://static.www.nfl.com/image/private/t_person_squared_mobile_3x/t_lazy/f_auto/league/af6nbjqa6qubnu8oi4ms\"><!--[if IE 9]></video><![endif]--><img alt=\"\" class=\"img-responsive\" src=\"https://static.www.nfl.com/image/private/t_person_squared_mobile/t_lazy/f_auto/league/af6nbjqa6qubnu8oi4ms\"/></source></source></source></picture></figure><div class=\"d3-o-media-object__body\"><a aria-label=\"Daniel Jones profile page\" class=\"d3-o-player-fullname nfl-o-cta--link\" href=\"/players/daniel-jones-x5302/\"> Daniel Jones </a></div></div></td><td class=\"selected\">3205</td><td>6.8</td><td>472</td><td>317</td><td>67.2</td><td>15</td><td>5</td><td>92.5</td><td>156</td><td>33</td><td>27</td><td>5</td><td>65</td><td>44</td><td>243</td></tr><tr><td scope=\"row\" tabindex=\"0\"><div class=\"d3-o-media-object d3-o-media-object--vertical-center\"><figure class=\"d3-o-media-object__figure d3-o-player-headshot\"><picture is-lazy=\"/t_lazy\"><!--[if IE 9]><video style=\"display:none\"><![endif]--><source media=\"(min-width:1024px)\" srcset=\"https://static.www.nfl.com/image/private/t_headshot_desktop/t_lazy/f_auto/league/objv34ak0xhzjvixm5sr 1x, https://static.www.nfl.com/image/private/t_headshot_desktop_2x/t_lazy/f_auto/league/objv34ak0xhzjvixm5sr 2x, https://static.www.nfl.com/image/private/t_headshot_desktop_3x/t_lazy/f_auto/league/objv34ak0xhzjvixm5sr\"><source media=\"(min-width:768px)\" srcset=\"https://static.www.nfl.com/image/private/t_headshot_tablet/t_lazy/f_auto/league/objv34ak0xhzjvixm5sr 1x, https://static.www.nfl.com/image/private/t_headshot_tablet_2x/t_lazy/f_auto/league/objv34ak0xhzjvixm5sr 2x, https://static.www.nfl.com/image/private/t_headshot_tablet_3x/t_lazy/f_auto/league/objv34ak0xhzjvixm5sr\"><source srcset=\"https://static.www.nfl.com/image/private/t_person_squared_mobile/t_lazy/f_auto/league/objv34ak0xhzjvixm5sr 1x, https://static.www.nfl.com/image/private/t_person_squared_mobile_2x/t_lazy/f_auto/league/objv34ak0xhzjvixm5sr 2x, https://static.www.nfl.com/image/private/t_person_squared_mobile_3x/t_lazy/f_auto/league/objv34ak0xhzjvixm5sr\"><!--[if IE 9]></video><![endif]--><img alt=\"\" class=\"img-responsive\" src=\"https://static.www.nfl.com/image/private/t_person_squared_mobile/t_lazy/f_auto/league/objv34ak0xhzjvixm5sr\"/></source></source></source></picture></figure><div class=\"d3-o-media-object__body\"><a aria-label=\"Davis Mills profile page\" class=\"d3-o-player-fullname nfl-o-cta--link\" href=\"/players/davis-mills/\"> Davis Mills </a></div></div></td><td class=\"selected\">3118</td><td>6.5</td><td>479</td><td>292</td><td>61</td><td>17</td><td>15</td><td>78.8</td><td>135</td><td>28.2</td><td>50</td><td>7</td><td>58</td><td>31</td><td>244</td></tr><tr><td scope=\"row\" tabindex=\"0\"><div class=\"d3-o-media-object d3-o-media-object--vertical-center\"><figure class=\"d3-o-media-object__figure d3-o-player-headshot\"><picture is-lazy=\"/t_lazy\"><!--[if IE 9]><video style=\"display:none\"><![endif]--><source media=\"(min-width:1024px)\" srcset=\"https://static.www.nfl.com/image/private/t_headshot_desktop/t_lazy/f_auto/league/s6zam4ekrrnonsck6vak 1x, https://static.www.nfl.com/image/private/t_headshot_desktop_2x/t_lazy/f_auto/league/s6zam4ekrrnonsck6vak 2x, https://static.www.nfl.com/image/private/t_headshot_desktop_3x/t_lazy/f_auto/league/s6zam4ekrrnonsck6vak\"><source media=\"(min-width:768px)\" srcset=\"https://static.www.nfl.com/image/private/t_headshot_tablet/t_lazy/f_auto/league/s6zam4ekrrnonsck6vak 1x, https://static.www.nfl.com/image/private/t_headshot_tablet_2x/t_lazy/f_auto/league/s6zam4ekrrnonsck6vak 2x, https://static.www.nfl.com/image/private/t_headshot_tablet_3x/t_lazy/f_auto/league/s6zam4ekrrnonsck6vak\"><source srcset=\"https://static.www.nfl.com/image/private/t_person_squared_mobile/t_lazy/f_auto/league/s6zam4ekrrnonsck6vak 1x, https://static.www.nfl.com/image/private/t_person_squared_mobile_2x/t_lazy/f_auto/league/s6zam4ekrrnonsck6vak 2x, https://static.www.nfl.com/image/private/t_person_squared_mobile_3x/t_lazy/f_auto/league/s6zam4ekrrnonsck6vak\"><!--[if IE 9]></video><![endif]--><img alt=\"\" class=\"img-responsive\" src=\"https://static.www.nfl.com/image/private/t_person_squared_mobile/t_lazy/f_auto/league/s6zam4ekrrnonsck6vak\"/></source></source></source></picture></figure><div class=\"d3-o-media-object__body\"><a aria-label=\"Matt Ryan profile page\" class=\"d3-o-player-fullname nfl-o-cta--link\" href=\"/players/matt-ryan/\"> Matt Ryan </a></div></div></td><td class=\"selected\">3057</td><td>6.6</td><td>461</td><td>309</td><td>67</td><td>14</td><td>13</td><td>83.9</td><td>156</td><td>33.8</td><td>33</td><td>2</td><td>45</td><td>38</td><td>287</td></tr><tr><td scope=\"row\" tabindex=\"0\"><div class=\"d3-o-media-object d3-o-media-object--vertical-center\"><figure class=\"d3-o-media-object__figure d3-o-player-headshot\"><picture is-lazy=\"/t_lazy\"><!--[if IE 9]><video style=\"display:none\"><![endif]--><source media=\"(min-width:1024px)\" srcset=\"https://static.www.nfl.com/image/private/t_headshot_desktop/t_lazy/f_auto/league/hhexcwf5oe7onhlemzq9 1x, https://static.www.nfl.com/image/private/t_headshot_desktop_2x/t_lazy/f_auto/league/hhexcwf5oe7onhlemzq9 2x, https://static.www.nfl.com/image/private/t_headshot_desktop_3x/t_lazy/f_auto/league/hhexcwf5oe7onhlemzq9\"><source media=\"(min-width:768px)\" srcset=\"https://static.www.nfl.com/image/private/t_headshot_tablet/t_lazy/f_auto/league/hhexcwf5oe7onhlemzq9 1x, https://static.www.nfl.com/image/private/t_headshot_tablet_2x/t_lazy/f_auto/league/hhexcwf5oe7onhlemzq9 2x, https://static.www.nfl.com/image/private/t_headshot_tablet_3x/t_lazy/f_auto/league/hhexcwf5oe7onhlemzq9\"><source srcset=\"https://static.www.nfl.com/image/private/t_person_squared_mobile/t_lazy/f_auto/league/hhexcwf5oe7onhlemzq9 1x, https://static.www.nfl.com/image/private/t_person_squared_mobile_2x/t_lazy/f_auto/league/hhexcwf5oe7onhlemzq9 2x, https://static.www.nfl.com/image/private/t_person_squared_mobile_3x/t_lazy/f_auto/league/hhexcwf5oe7onhlemzq9\"><!--[if IE 9]></video><![endif]--><img alt=\"\" class=\"img-responsive\" src=\"https://static.www.nfl.com/image/private/t_person_squared_mobile/t_lazy/f_auto/league/hhexcwf5oe7onhlemzq9\"/></source></source></source></picture></figure><div class=\"d3-o-media-object__body\"><a aria-label=\"Mac Jones profile page\" class=\"d3-o-player-fullname nfl-o-cta--link\" href=\"/players/mac-jones/\"> Mac Jones </a></div></div></td><td class=\"selected\">2997</td><td>6.8</td><td>442</td><td>288</td><td>65.2</td><td>14</td><td>11</td><td>84.8</td><td>127</td><td>28.7</td><td>42</td><td>7</td><td>48</td><td>34</td><td>231</td></tr><tr><td scope=\"row\" tabindex=\"0\"><div class=\"d3-o-media-object d3-o-media-object--vertical-center\"><figure class=\"d3-o-media-object__figure d3-o-player-headshot\"><picture is-lazy=\"/t_lazy\"><!--[if IE 9]><video style=\"display:none\"><![endif]--><source media=\"(min-width:1024px)\" srcset=\"https://static.www.nfl.com/image/private/t_headshot_desktop/t_lazy/f_auto/league/yhkh8vtc5ocjo3iyn9ug 1x, https://static.www.nfl.com/image/private/t_headshot_desktop_2x/t_lazy/f_auto/league/yhkh8vtc5ocjo3iyn9ug 2x, https://static.www.nfl.com/image/private/t_headshot_desktop_3x/t_lazy/f_auto/league/yhkh8vtc5ocjo3iyn9ug\"><source media=\"(min-width:768px)\" srcset=\"https://static.www.nfl.com/image/private/t_headshot_tablet/t_lazy/f_auto/league/yhkh8vtc5ocjo3iyn9ug 1x, https://static.www.nfl.com/image/private/t_headshot_tablet_2x/t_lazy/f_auto/league/yhkh8vtc5ocjo3iyn9ug 2x, https://static.www.nfl.com/image/private/t_headshot_tablet_3x/t_lazy/f_auto/league/yhkh8vtc5ocjo3iyn9ug\"><source srcset=\"https://static.www.nfl.com/image/private/t_person_squared_mobile/t_lazy/f_auto/league/yhkh8vtc5ocjo3iyn9ug 1x, https://static.www.nfl.com/image/private/t_person_squared_mobile_2x/t_lazy/f_auto/league/yhkh8vtc5ocjo3iyn9ug 2x, https://static.www.nfl.com/image/private/t_person_squared_mobile_3x/t_lazy/f_auto/league/yhkh8vtc5ocjo3iyn9ug\"><!--[if IE 9]></video><![endif]--><img alt=\"\" class=\"img-responsive\" src=\"https://static.www.nfl.com/image/private/t_person_squared_mobile/t_lazy/f_auto/league/yhkh8vtc5ocjo3iyn9ug\"/></source></source></source></picture></figure><div class=\"d3-o-media-object__body\"><a aria-label=\"Andy Dalton profile page\" class=\"d3-o-player-fullname nfl-o-cta--link\" href=\"/players/andy-dalton/\"> Andy Dalton </a></div></div></td><td class=\"selected\">2871</td><td>7.6</td><td>378</td><td>252</td><td>66.7</td><td>18</td><td>9</td><td>95.2</td><td>135</td><td>35.7</td><td>28</td><td>7</td><td>64</td><td>25</td><td>189</td></tr><tr><td scope=\"row\" tabindex=\"0\"><div class=\"d3-o-media-object d3-o-media-object--vertical-center\"><figure class=\"d3-o-media-object__figure d3-o-player-headshot\"><picture is-lazy=\"/t_lazy\"><!--[if IE 9]><video style=\"display:none\"><![endif]--><source media=\"(min-width:1024px)\" srcset=\"https://static.www.nfl.com/image/private/t_headshot_desktop/t_lazy/f_auto/league/ofhu8bvafse5folcjzyu 1x, https://static.www.nfl.com/image/private/t_headshot_desktop_2x/t_lazy/f_auto/league/ofhu8bvafse5folcjzyu 2x, https://static.www.nfl.com/image/private/t_headshot_desktop_3x/t_lazy/f_auto/league/ofhu8bvafse5folcjzyu\"><source media=\"(min-width:768px)\" srcset=\"https://static.www.nfl.com/image/private/t_headshot_tablet/t_lazy/f_auto/league/ofhu8bvafse5folcjzyu 1x, https://static.www.nfl.com/image/private/t_headshot_tablet_2x/t_lazy/f_auto/league/ofhu8bvafse5folcjzyu 2x, https://static.www.nfl.com/image/private/t_headshot_tablet_3x/t_lazy/f_auto/league/ofhu8bvafse5folcjzyu\"><source srcset=\"https://static.www.nfl.com/image/private/t_person_squared_mobile/t_lazy/f_auto/league/ofhu8bvafse5folcjzyu 1x, https://static.www.nfl.com/image/private/t_person_squared_mobile_2x/t_lazy/f_auto/league/ofhu8bvafse5folcjzyu 2x, https://static.www.nfl.com/image/private/t_person_squared_mobile_3x/t_lazy/f_auto/league/ofhu8bvafse5folcjzyu\"><!--[if IE 9]></video><![endif]--><img alt=\"\" class=\"img-responsive\" src=\"https://static.www.nfl.com/image/private/t_person_squared_mobile/t_lazy/f_auto/league/ofhu8bvafse5folcjzyu\"/></source></source></source></picture></figure><div class=\"d3-o-media-object__body\"><a aria-label=\"Dak Prescott profile page\" class=\"d3-o-player-fullname nfl-o-cta--link\" href=\"/players/dak-prescott/\"> Dak Prescott </a></div></div></td><td class=\"selected\">2860</td><td>7.3</td><td>394</td><td>261</td><td>66.2</td><td>23</td><td>15</td><td>91.1</td><td>142</td><td>36</td><td>37</td><td>3</td><td>68</td><td>20</td><td>126</td></tr><tr><td scope=\"row\" tabindex=\"0\"><div class=\"d3-o-media-object d3-o-media-object--vertical-center\"><figure class=\"d3-o-media-object__figure d3-o-player-headshot\"><picture is-lazy=\"/t_lazy\"><!--[if IE 9]><video style=\"display:none\"><![endif]--><source media=\"(min-width:1024px)\" srcset=\"https://static.www.nfl.com/image/private/t_headshot_desktop/t_lazy/f_auto/league/z12an2n54jj6ycouwg9h 1x, https://static.www.nfl.com/image/private/t_headshot_desktop_2x/t_lazy/f_auto/league/z12an2n54jj6ycouwg9h 2x, https://static.www.nfl.com/image/private/t_headshot_desktop_3x/t_lazy/f_auto/league/z12an2n54jj6ycouwg9h\"><source media=\"(min-width:768px)\" srcset=\"https://static.www.nfl.com/image/private/t_headshot_tablet/t_lazy/f_auto/league/z12an2n54jj6ycouwg9h 1x, https://static.www.nfl.com/image/private/t_headshot_tablet_2x/t_lazy/f_auto/league/z12an2n54jj6ycouwg9h 2x, https://static.www.nfl.com/image/private/t_headshot_tablet_3x/t_lazy/f_auto/league/z12an2n54jj6ycouwg9h\"><source srcset=\"https://static.www.nfl.com/image/private/t_person_squared_mobile/t_lazy/f_auto/league/z12an2n54jj6ycouwg9h 1x, https://static.www.nfl.com/image/private/t_person_squared_mobile_2x/t_lazy/f_auto/league/z12an2n54jj6ycouwg9h 2x, https://static.www.nfl.com/image/private/t_person_squared_mobile_3x/t_lazy/f_auto/league/z12an2n54jj6ycouwg9h\"><!--[if IE 9]></video><![endif]--><img alt=\"\" class=\"img-responsive\" src=\"https://static.www.nfl.com/image/private/t_person_squared_mobile/t_lazy/f_auto/league/z12an2n54jj6ycouwg9h\"/></source></source></source></picture></figure><div class=\"d3-o-media-object__body\"><a aria-label=\"Jacoby Brissett profile page\" class=\"d3-o-player-fullname nfl-o-cta--link\" href=\"/players/jacoby-brissett/\"> Jacoby Brissett </a></div></div></td><td class=\"selected\">2608</td><td>7.1</td><td>369</td><td>236</td><td>64</td><td>12</td><td>6</td><td>88.9</td><td>129</td><td>35</td><td>32</td><td>4</td><td>55</td><td>24</td><td>160</td></tr><tr><td scope=\"row\" tabindex=\"0\"><div class=\"d3-o-media-object d3-o-media-object--vertical-center\"><figure class=\"d3-o-media-object__figure d3-o-player-headshot\"><picture is-lazy=\"/t_lazy\"><!--[if IE 9]><video style=\"display:none\"><![endif]--><source media=\"(min-width:1024px)\" srcset=\"https://static.www.nfl.com/image/private/t_headshot_desktop/t_lazy/f_auto/league/ns30g7th6gkhjaeoivgj 1x, https://static.www.nfl.com/image/private/t_headshot_desktop_2x/t_lazy/f_auto/league/ns30g7th6gkhjaeoivgj 2x, https://static.www.nfl.com/image/private/t_headshot_desktop_3x/t_lazy/f_auto/league/ns30g7th6gkhjaeoivgj\"><source media=\"(min-width:768px)\" srcset=\"https://static.www.nfl.com/image/private/t_headshot_tablet/t_lazy/f_auto/league/ns30g7th6gkhjaeoivgj 1x, https://static.www.nfl.com/image/private/t_headshot_tablet_2x/t_lazy/f_auto/league/ns30g7th6gkhjaeoivgj 2x, https://static.www.nfl.com/image/private/t_headshot_tablet_3x/t_lazy/f_auto/league/ns30g7th6gkhjaeoivgj\"><source srcset=\"https://static.www.nfl.com/image/private/t_person_squared_mobile/t_lazy/f_auto/league/ns30g7th6gkhjaeoivgj 1x, https://static.www.nfl.com/image/private/t_person_squared_mobile_2x/t_lazy/f_auto/league/ns30g7th6gkhjaeoivgj 2x, https://static.www.nfl.com/image/private/t_person_squared_mobile_3x/t_lazy/f_auto/league/ns30g7th6gkhjaeoivgj\"><!--[if IE 9]></video><![endif]--><img alt=\"\" class=\"img-responsive\" src=\"https://static.www.nfl.com/image/private/t_person_squared_mobile/t_lazy/f_auto/league/ns30g7th6gkhjaeoivgj\"/></source></source></source></picture></figure><div class=\"d3-o-media-object__body\"><a aria-label=\"Ryan Tannehill profile page\" class=\"d3-o-player-fullname nfl-o-cta--link\" href=\"/players/ryan-tannehill/\"> Ryan Tannehill </a></div></div></td><td class=\"selected\">2536</td><td>7.8</td><td>325</td><td>212</td><td>65.2</td><td>13</td><td>6</td><td>94.6</td><td>116</td><td>35.7</td><td>35</td><td>10</td><td>69</td><td>33</td><td>238</td></tr><tr><td scope=\"row\" tabindex=\"0\"><div class=\"d3-o-media-object d3-o-media-object--vertical-center\"><figure class=\"d3-o-media-object__figure d3-o-player-headshot\"><picture is-lazy=\"/t_lazy\"><!--[if IE 9]><video style=\"display:none\"><![endif]--><source media=\"(min-width:1024px)\" srcset=\"https://static.www.nfl.com/image/private/t_headshot_desktop/t_lazy/f_auto/league/fuepwtifp7wd9grpzvwb 1x, https://static.www.nfl.com/image/private/t_headshot_desktop_2x/t_lazy/f_auto/league/fuepwtifp7wd9grpzvwb 2x, https://static.www.nfl.com/image/private/t_headshot_desktop_3x/t_lazy/f_auto/league/fuepwtifp7wd9grpzvwb\"><source media=\"(min-width:768px)\" srcset=\"https://static.www.nfl.com/image/private/t_headshot_tablet/t_lazy/f_auto/league/fuepwtifp7wd9grpzvwb 1x, https://static.www.nfl.com/image/private/t_headshot_tablet_2x/t_lazy/f_auto/league/fuepwtifp7wd9grpzvwb 2x, https://static.www.nfl.com/image/private/t_headshot_tablet_3x/t_lazy/f_auto/league/fuepwtifp7wd9grpzvwb\"><source srcset=\"https://static.www.nfl.com/image/private/t_person_squared_mobile/t_lazy/f_auto/league/fuepwtifp7wd9grpzvwb 1x, https://static.www.nfl.com/image/private/t_person_squared_mobile_2x/t_lazy/f_auto/league/fuepwtifp7wd9grpzvwb 2x, https://static.www.nfl.com/image/private/t_person_squared_mobile_3x/t_lazy/f_auto/league/fuepwtifp7wd9grpzvwb\"><!--[if IE 9]></video><![endif]--><img alt=\"\" class=\"img-responsive\" src=\"https://static.www.nfl.com/image/private/t_person_squared_mobile/t_lazy/f_auto/league/fuepwtifp7wd9grpzvwb\"/></source></source></source></picture></figure><div class=\"d3-o-media-object__body\"><a aria-label=\"Jimmy Garoppolo profile page\" class=\"d3-o-player-fullname nfl-o-cta--link\" href=\"/players/jimmy-garoppolo/\"> Jimmy Garoppolo </a></div></div></td><td class=\"selected\">2437</td><td>7.9</td><td>308</td><td>207</td><td>67.2</td><td>16</td><td>4</td><td>103</td><td>114</td><td>37</td><td>31</td><td>2</td><td>57</td><td>18</td><td>100</td></tr><tr><td scope=\"row\" tabindex=\"0\"><div class=\"d3-o-media-object d3-o-media-object--vertical-center\"><figure class=\"d3-o-media-object__figure d3-o-player-headshot\"><picture is-lazy=\"/t_lazy\"><!--[if IE 9]><video style=\"display:none\"><![endif]--><source media=\"(min-width:1024px)\" srcset=\"https://static.www.nfl.com/image/private/t_headshot_desktop/t_lazy/f_auto/league/vbabaquryx2jw1uahay2 1x, https://static.www.nfl.com/image/private/t_headshot_desktop_2x/t_lazy/f_auto/league/vbabaquryx2jw1uahay2 2x, https://static.www.nfl.com/image/private/t_headshot_desktop_3x/t_lazy/f_auto/league/vbabaquryx2jw1uahay2\"><source media=\"(min-width:768px)\" srcset=\"https://static.www.nfl.com/image/private/t_headshot_tablet/t_lazy/f_auto/league/vbabaquryx2jw1uahay2 1x, https://static.www.nfl.com/image/private/t_headshot_tablet_2x/t_lazy/f_auto/league/vbabaquryx2jw1uahay2 2x, https://static.www.nfl.com/image/private/t_headshot_tablet_3x/t_lazy/f_auto/league/vbabaquryx2jw1uahay2\"><source srcset=\"https://static.www.nfl.com/image/private/t_person_squared_mobile/t_lazy/f_auto/league/vbabaquryx2jw1uahay2 1x, https://static.www.nfl.com/image/private/t_person_squared_mobile_2x/t_lazy/f_auto/league/vbabaquryx2jw1uahay2 2x, https://static.www.nfl.com/image/private/t_person_squared_mobile_3x/t_lazy/f_auto/league/vbabaquryx2jw1uahay2\"><!--[if IE 9]></video><![endif]--><img alt=\"\" class=\"img-responsive\" src=\"https://static.www.nfl.com/image/private/t_person_squared_mobile/t_lazy/f_auto/league/vbabaquryx2jw1uahay2\"/></source></source></source></picture></figure><div class=\"d3-o-media-object__body\"><a aria-label=\"Kenny Pickett profile page\" class=\"d3-o-player-fullname nfl-o-cta--link\" href=\"/players/kenny-pickett/\"> Kenny Pickett </a></div></div></td><td class=\"selected\">2404</td><td>6.2</td><td>389</td><td>245</td><td>63</td><td>7</td><td>9</td><td>76.7</td><td>123</td><td>31.6</td><td>28</td><td>1</td><td>57</td><td>27</td><td>182</td></tr><tr><td scope=\"row\" tabindex=\"0\"><div class=\"d3-o-media-object d3-o-media-object--vertical-center\"><figure class=\"d3-o-media-object__figure d3-o-player-headshot\"><picture is-lazy=\"/t_lazy\"><!--[if IE 9]><video style=\"display:none\"><![endif]--><source media=\"(min-width:1024px)\" srcset=\"https://static.www.nfl.com/image/private/t_headshot_desktop/t_lazy/f_auto/league/nkb9x92lbea6ayknzoba 1x, https://static.www.nfl.com/image/private/t_headshot_desktop_2x/t_lazy/f_auto/league/nkb9x92lbea6ayknzoba 2x, https://static.www.nfl.com/image/private/t_headshot_desktop_3x/t_lazy/f_auto/league/nkb9x92lbea6ayknzoba\"><source media=\"(min-width:768px)\" srcset=\"https://static.www.nfl.com/image/private/t_headshot_tablet/t_lazy/f_auto/league/nkb9x92lbea6ayknzoba 1x, https://static.www.nfl.com/image/private/t_headshot_tablet_2x/t_lazy/f_auto/league/nkb9x92lbea6ayknzoba 2x, https://static.www.nfl.com/image/private/t_headshot_tablet_3x/t_lazy/f_auto/league/nkb9x92lbea6ayknzoba\"><source srcset=\"https://static.www.nfl.com/image/private/t_person_squared_mobile/t_lazy/f_auto/league/nkb9x92lbea6ayknzoba 1x, https://static.www.nfl.com/image/private/t_person_squared_mobile_2x/t_lazy/f_auto/league/nkb9x92lbea6ayknzoba 2x, https://static.www.nfl.com/image/private/t_person_squared_mobile_3x/t_lazy/f_auto/league/nkb9x92lbea6ayknzoba\"><!--[if IE 9]></video><![endif]--><img alt=\"\" class=\"img-responsive\" src=\"https://static.www.nfl.com/image/private/t_person_squared_mobile/t_lazy/f_auto/league/nkb9x92lbea6ayknzoba\"/></source></source></source></picture></figure><div class=\"d3-o-media-object__body\"><a aria-label=\"Kyler Murray profile page\" class=\"d3-o-player-fullname nfl-o-cta--link\" href=\"/players/kyler-murray/\"> Kyler Murray </a></div></div></td><td class=\"selected\">2368</td><td>6.1</td><td>390</td><td>259</td><td>66.4</td><td>14</td><td>7</td><td>87.2</td><td>119</td><td>30.5</td><td>27</td><td>0</td><td>38</td><td>25</td><td>192</td></tr></tbody>"
            ]
          },
          "execution_count": 20,
          "metadata": {},
          "output_type": "execute_result"
        }
      ],
      "source": [
        "pass_stat=soup.find(\"tbody\")\n",
        "pass_stat"
      ]
    },
    {
      "cell_type": "code",
      "execution_count": null,
      "id": "475ac587",
      "metadata": {
        "id": "475ac587",
        "outputId": "2dbd23d0-df77-4ce6-fe04-ccc60e0b0513"
      },
      "outputs": [
        {
          "name": "stdout",
          "output_type": "stream",
          "text": [
            "<tr><td scope=\"row\" tabindex=\"0\"><div class=\"d3-o-media-object d3-o-media-object--vertical-center\"><figure class=\"d3-o-media-object__figure d3-o-player-headshot\"><picture is-lazy=\"/t_lazy\"><!--[if IE 9]><video style=\"display:none\"><![endif]--><source media=\"(min-width:1024px)\" srcset=\"https://static.www.nfl.com/image/private/t_headshot_desktop/t_lazy/f_auto/league/vs40h82nvqaqvyephwwu 1x, https://static.www.nfl.com/image/private/t_headshot_desktop_2x/t_lazy/f_auto/league/vs40h82nvqaqvyephwwu 2x, https://static.www.nfl.com/image/private/t_headshot_desktop_3x/t_lazy/f_auto/league/vs40h82nvqaqvyephwwu\"><source media=\"(min-width:768px)\" srcset=\"https://static.www.nfl.com/image/private/t_headshot_tablet/t_lazy/f_auto/league/vs40h82nvqaqvyephwwu 1x, https://static.www.nfl.com/image/private/t_headshot_tablet_2x/t_lazy/f_auto/league/vs40h82nvqaqvyephwwu 2x, https://static.www.nfl.com/image/private/t_headshot_tablet_3x/t_lazy/f_auto/league/vs40h82nvqaqvyephwwu\"><source srcset=\"https://static.www.nfl.com/image/private/t_person_squared_mobile/t_lazy/f_auto/league/vs40h82nvqaqvyephwwu 1x, https://static.www.nfl.com/image/private/t_person_squared_mobile_2x/t_lazy/f_auto/league/vs40h82nvqaqvyephwwu 2x, https://static.www.nfl.com/image/private/t_person_squared_mobile_3x/t_lazy/f_auto/league/vs40h82nvqaqvyephwwu\"><!--[if IE 9]></video><![endif]--><img alt=\"\" class=\"img-responsive\" src=\"https://static.www.nfl.com/image/private/t_person_squared_mobile/t_lazy/f_auto/league/vs40h82nvqaqvyephwwu\"/></source></source></source></picture></figure><div class=\"d3-o-media-object__body\"><a aria-label=\"Patrick Mahomes profile page\" class=\"d3-o-player-fullname nfl-o-cta--link\" href=\"/players/patrick-mahomes/\"> Patrick Mahomes </a></div></div></td><td class=\"selected\">5250</td><td>8.1</td><td>648</td><td>435</td><td>67.1</td><td>41</td><td>12</td><td>105.2</td><td>272</td><td>42</td><td>73</td><td>13</td><td>67</td><td>26</td><td>188</td></tr>\n",
            "<tr><td scope=\"row\" tabindex=\"0\"><div class=\"d3-o-media-object d3-o-media-object--vertical-center\"><figure class=\"d3-o-media-object__figure d3-o-player-headshot\"><picture is-lazy=\"/t_lazy\"><!--[if IE 9]><video style=\"display:none\"><![endif]--><source media=\"(min-width:1024px)\" srcset=\"https://static.www.nfl.com/image/private/t_headshot_desktop/t_lazy/f_auto/league/qknkhe4w6liovjubzmnh 1x, https://static.www.nfl.com/image/private/t_headshot_desktop_2x/t_lazy/f_auto/league/qknkhe4w6liovjubzmnh 2x, https://static.www.nfl.com/image/private/t_headshot_desktop_3x/t_lazy/f_auto/league/qknkhe4w6liovjubzmnh\"><source media=\"(min-width:768px)\" srcset=\"https://static.www.nfl.com/image/private/t_headshot_tablet/t_lazy/f_auto/league/qknkhe4w6liovjubzmnh 1x, https://static.www.nfl.com/image/private/t_headshot_tablet_2x/t_lazy/f_auto/league/qknkhe4w6liovjubzmnh 2x, https://static.www.nfl.com/image/private/t_headshot_tablet_3x/t_lazy/f_auto/league/qknkhe4w6liovjubzmnh\"><source srcset=\"https://static.www.nfl.com/image/private/t_person_squared_mobile/t_lazy/f_auto/league/qknkhe4w6liovjubzmnh 1x, https://static.www.nfl.com/image/private/t_person_squared_mobile_2x/t_lazy/f_auto/league/qknkhe4w6liovjubzmnh 2x, https://static.www.nfl.com/image/private/t_person_squared_mobile_3x/t_lazy/f_auto/league/qknkhe4w6liovjubzmnh\"><!--[if IE 9]></video><![endif]--><img alt=\"\" class=\"img-responsive\" src=\"https://static.www.nfl.com/image/private/t_person_squared_mobile/t_lazy/f_auto/league/qknkhe4w6liovjubzmnh\"/></source></source></source></picture></figure><div class=\"d3-o-media-object__body\"><a aria-label=\"Justin Herbert profile page\" class=\"d3-o-player-fullname nfl-o-cta--link\" href=\"/players/justin-herbert/\"> Justin Herbert </a></div></div></td><td class=\"selected\">4739</td><td>6.8</td><td>699</td><td>477</td><td>68.2</td><td>25</td><td>10</td><td>93.2</td><td>228</td><td>32.6</td><td>50</td><td>7</td><td>55</td><td>38</td><td>206</td></tr>\n",
            "<tr><td scope=\"row\" tabindex=\"0\"><div class=\"d3-o-media-object d3-o-media-object--vertical-center\"><figure class=\"d3-o-media-object__figure d3-o-player-headshot\"><picture is-lazy=\"/t_lazy\"><!--[if IE 9]><video style=\"display:none\"><![endif]--><source media=\"(min-width:1024px)\" srcset=\"https://static.www.nfl.com/image/private/t_headshot_desktop/t_lazy/f_auto/league/q7dpdlxyu5rs05rgh1le 1x, https://static.www.nfl.com/image/private/t_headshot_desktop_2x/t_lazy/f_auto/league/q7dpdlxyu5rs05rgh1le 2x, https://static.www.nfl.com/image/private/t_headshot_desktop_3x/t_lazy/f_auto/league/q7dpdlxyu5rs05rgh1le\"><source media=\"(min-width:768px)\" srcset=\"https://static.www.nfl.com/image/private/t_headshot_tablet/t_lazy/f_auto/league/q7dpdlxyu5rs05rgh1le 1x, https://static.www.nfl.com/image/private/t_headshot_tablet_2x/t_lazy/f_auto/league/q7dpdlxyu5rs05rgh1le 2x, https://static.www.nfl.com/image/private/t_headshot_tablet_3x/t_lazy/f_auto/league/q7dpdlxyu5rs05rgh1le\"><source srcset=\"https://static.www.nfl.com/image/private/t_person_squared_mobile/t_lazy/f_auto/league/q7dpdlxyu5rs05rgh1le 1x, https://static.www.nfl.com/image/private/t_person_squared_mobile_2x/t_lazy/f_auto/league/q7dpdlxyu5rs05rgh1le 2x, https://static.www.nfl.com/image/private/t_person_squared_mobile_3x/t_lazy/f_auto/league/q7dpdlxyu5rs05rgh1le\"><!--[if IE 9]></video><![endif]--><img alt=\"\" class=\"img-responsive\" src=\"https://static.www.nfl.com/image/private/t_person_squared_mobile/t_lazy/f_auto/league/q7dpdlxyu5rs05rgh1le\"/></source></source></source></picture></figure><div class=\"d3-o-media-object__body\"><a aria-label=\"Tom Brady profile page\" class=\"d3-o-player-fullname nfl-o-cta--link\" href=\"/players/tom-brady/\"> Tom Brady </a></div></div></td><td class=\"selected\">4694</td><td>6.4</td><td>733</td><td>490</td><td>66.8</td><td>25</td><td>9</td><td>90.7</td><td>237</td><td>32.3</td><td>50</td><td>8</td><td>63</td><td>22</td><td>160</td></tr>\n",
            "<tr><td scope=\"row\" tabindex=\"0\"><div class=\"d3-o-media-object d3-o-media-object--vertical-center\"><figure class=\"d3-o-media-object__figure d3-o-player-headshot\"><picture is-lazy=\"/t_lazy\"><!--[if IE 9]><video style=\"display:none\"><![endif]--><source media=\"(min-width:1024px)\" srcset=\"https://static.www.nfl.com/image/private/t_headshot_desktop/t_lazy/f_auto/league/h9ndf9ralxifgjvot2q4 1x, https://static.www.nfl.com/image/private/t_headshot_desktop_2x/t_lazy/f_auto/league/h9ndf9ralxifgjvot2q4 2x, https://static.www.nfl.com/image/private/t_headshot_desktop_3x/t_lazy/f_auto/league/h9ndf9ralxifgjvot2q4\"><source media=\"(min-width:768px)\" srcset=\"https://static.www.nfl.com/image/private/t_headshot_tablet/t_lazy/f_auto/league/h9ndf9ralxifgjvot2q4 1x, https://static.www.nfl.com/image/private/t_headshot_tablet_2x/t_lazy/f_auto/league/h9ndf9ralxifgjvot2q4 2x, https://static.www.nfl.com/image/private/t_headshot_tablet_3x/t_lazy/f_auto/league/h9ndf9ralxifgjvot2q4\"><source srcset=\"https://static.www.nfl.com/image/private/t_person_squared_mobile/t_lazy/f_auto/league/h9ndf9ralxifgjvot2q4 1x, https://static.www.nfl.com/image/private/t_person_squared_mobile_2x/t_lazy/f_auto/league/h9ndf9ralxifgjvot2q4 2x, https://static.www.nfl.com/image/private/t_person_squared_mobile_3x/t_lazy/f_auto/league/h9ndf9ralxifgjvot2q4\"><!--[if IE 9]></video><![endif]--><img alt=\"\" class=\"img-responsive\" src=\"https://static.www.nfl.com/image/private/t_person_squared_mobile/t_lazy/f_auto/league/h9ndf9ralxifgjvot2q4\"/></source></source></source></picture></figure><div class=\"d3-o-media-object__body\"><a aria-label=\"Kirk Cousins profile page\" class=\"d3-o-player-fullname nfl-o-cta--link\" href=\"/players/kirk-cousins/\"> Kirk Cousins </a></div></div></td><td class=\"selected\">4547</td><td>7.1</td><td>643</td><td>424</td><td>65.9</td><td>29</td><td>14</td><td>92.5</td><td>230</td><td>35.8</td><td>47</td><td>10</td><td>66</td><td>46</td><td>329</td></tr>\n",
            "<tr><td scope=\"row\" tabindex=\"0\"><div class=\"d3-o-media-object d3-o-media-object--vertical-center\"><figure class=\"d3-o-media-object__figure d3-o-player-headshot\"><picture is-lazy=\"/t_lazy\"><!--[if IE 9]><video style=\"display:none\"><![endif]--><source media=\"(min-width:1024px)\" srcset=\"https://static.www.nfl.com/image/private/t_headshot_desktop/t_lazy/f_auto/league/pbl27kxsr5ulgxmvtvfn 1x, https://static.www.nfl.com/image/private/t_headshot_desktop_2x/t_lazy/f_auto/league/pbl27kxsr5ulgxmvtvfn 2x, https://static.www.nfl.com/image/private/t_headshot_desktop_3x/t_lazy/f_auto/league/pbl27kxsr5ulgxmvtvfn\"><source media=\"(min-width:768px)\" srcset=\"https://static.www.nfl.com/image/private/t_headshot_tablet/t_lazy/f_auto/league/pbl27kxsr5ulgxmvtvfn 1x, https://static.www.nfl.com/image/private/t_headshot_tablet_2x/t_lazy/f_auto/league/pbl27kxsr5ulgxmvtvfn 2x, https://static.www.nfl.com/image/private/t_headshot_tablet_3x/t_lazy/f_auto/league/pbl27kxsr5ulgxmvtvfn\"><source srcset=\"https://static.www.nfl.com/image/private/t_person_squared_mobile/t_lazy/f_auto/league/pbl27kxsr5ulgxmvtvfn 1x, https://static.www.nfl.com/image/private/t_person_squared_mobile_2x/t_lazy/f_auto/league/pbl27kxsr5ulgxmvtvfn 2x, https://static.www.nfl.com/image/private/t_person_squared_mobile_3x/t_lazy/f_auto/league/pbl27kxsr5ulgxmvtvfn\"><!--[if IE 9]></video><![endif]--><img alt=\"\" class=\"img-responsive\" src=\"https://static.www.nfl.com/image/private/t_person_squared_mobile/t_lazy/f_auto/league/pbl27kxsr5ulgxmvtvfn\"/></source></source></source></picture></figure><div class=\"d3-o-media-object__body\"><a aria-label=\"Joe Burrow profile page\" class=\"d3-o-player-fullname nfl-o-cta--link\" href=\"/players/joe-burrow/\"> Joe Burrow </a></div></div></td><td class=\"selected\">4475</td><td>7.4</td><td>606</td><td>414</td><td>68.3</td><td>35</td><td>12</td><td>100.8</td><td>219</td><td>36.1</td><td>53</td><td>10</td><td>60</td><td>41</td><td>259</td></tr>\n",
            "<tr><td scope=\"row\" tabindex=\"0\"><div class=\"d3-o-media-object d3-o-media-object--vertical-center\"><figure class=\"d3-o-media-object__figure d3-o-player-headshot\"><picture is-lazy=\"/t_lazy\"><!--[if IE 9]><video style=\"display:none\"><![endif]--><source media=\"(min-width:1024px)\" srcset=\"https://static.www.nfl.com/image/private/t_headshot_desktop/t_lazy/f_auto/league/s4hzfab5iglq2tmjb0xy 1x, https://static.www.nfl.com/image/private/t_headshot_desktop_2x/t_lazy/f_auto/league/s4hzfab5iglq2tmjb0xy 2x, https://static.www.nfl.com/image/private/t_headshot_desktop_3x/t_lazy/f_auto/league/s4hzfab5iglq2tmjb0xy\"><source media=\"(min-width:768px)\" srcset=\"https://static.www.nfl.com/image/private/t_headshot_tablet/t_lazy/f_auto/league/s4hzfab5iglq2tmjb0xy 1x, https://static.www.nfl.com/image/private/t_headshot_tablet_2x/t_lazy/f_auto/league/s4hzfab5iglq2tmjb0xy 2x, https://static.www.nfl.com/image/private/t_headshot_tablet_3x/t_lazy/f_auto/league/s4hzfab5iglq2tmjb0xy\"><source srcset=\"https://static.www.nfl.com/image/private/t_person_squared_mobile/t_lazy/f_auto/league/s4hzfab5iglq2tmjb0xy 1x, https://static.www.nfl.com/image/private/t_person_squared_mobile_2x/t_lazy/f_auto/league/s4hzfab5iglq2tmjb0xy 2x, https://static.www.nfl.com/image/private/t_person_squared_mobile_3x/t_lazy/f_auto/league/s4hzfab5iglq2tmjb0xy\"><!--[if IE 9]></video><![endif]--><img alt=\"\" class=\"img-responsive\" src=\"https://static.www.nfl.com/image/private/t_person_squared_mobile/t_lazy/f_auto/league/s4hzfab5iglq2tmjb0xy\"/></source></source></source></picture></figure><div class=\"d3-o-media-object__body\"><a aria-label=\"Jared Goff profile page\" class=\"d3-o-player-fullname nfl-o-cta--link\" href=\"/players/jared-goff/\"> Jared Goff </a></div></div></td><td class=\"selected\">4438</td><td>7.6</td><td>587</td><td>382</td><td>65.1</td><td>29</td><td>7</td><td>99.3</td><td>227</td><td>38.7</td><td>57</td><td>12</td><td>81</td><td>23</td><td>156</td></tr>\n",
            "<tr><td scope=\"row\" tabindex=\"0\"><div class=\"d3-o-media-object d3-o-media-object--vertical-center\"><figure class=\"d3-o-media-object__figure d3-o-player-headshot\"><picture is-lazy=\"/t_lazy\"><!--[if IE 9]><video style=\"display:none\"><![endif]--><source media=\"(min-width:1024px)\" srcset=\"https://static.www.nfl.com/image/private/t_headshot_desktop/t_lazy/f_auto/league/btfnqtymqsqgybnv4u6n 1x, https://static.www.nfl.com/image/private/t_headshot_desktop_2x/t_lazy/f_auto/league/btfnqtymqsqgybnv4u6n 2x, https://static.www.nfl.com/image/private/t_headshot_desktop_3x/t_lazy/f_auto/league/btfnqtymqsqgybnv4u6n\"><source media=\"(min-width:768px)\" srcset=\"https://static.www.nfl.com/image/private/t_headshot_tablet/t_lazy/f_auto/league/btfnqtymqsqgybnv4u6n 1x, https://static.www.nfl.com/image/private/t_headshot_tablet_2x/t_lazy/f_auto/league/btfnqtymqsqgybnv4u6n 2x, https://static.www.nfl.com/image/private/t_headshot_tablet_3x/t_lazy/f_auto/league/btfnqtymqsqgybnv4u6n\"><source srcset=\"https://static.www.nfl.com/image/private/t_person_squared_mobile/t_lazy/f_auto/league/btfnqtymqsqgybnv4u6n 1x, https://static.www.nfl.com/image/private/t_person_squared_mobile_2x/t_lazy/f_auto/league/btfnqtymqsqgybnv4u6n 2x, https://static.www.nfl.com/image/private/t_person_squared_mobile_3x/t_lazy/f_auto/league/btfnqtymqsqgybnv4u6n\"><!--[if IE 9]></video><![endif]--><img alt=\"\" class=\"img-responsive\" src=\"https://static.www.nfl.com/image/private/t_person_squared_mobile/t_lazy/f_auto/league/btfnqtymqsqgybnv4u6n\"/></source></source></source></picture></figure><div class=\"d3-o-media-object__body\"><a aria-label=\"Josh Allen profile page\" class=\"d3-o-player-fullname nfl-o-cta--link\" href=\"/players/josh-allen-4/\"> Josh Allen </a></div></div></td><td class=\"selected\">4283</td><td>7.6</td><td>567</td><td>359</td><td>63.3</td><td>35</td><td>14</td><td>96.6</td><td>212</td><td>37.4</td><td>51</td><td>12</td><td>98</td><td>33</td><td>162</td></tr>\n",
            "<tr><td scope=\"row\" tabindex=\"0\"><div class=\"d3-o-media-object d3-o-media-object--vertical-center\"><figure class=\"d3-o-media-object__figure d3-o-player-headshot\"><picture is-lazy=\"/t_lazy\"><!--[if IE 9]><video style=\"display:none\"><![endif]--><source media=\"(min-width:1024px)\" srcset=\"https://static.www.nfl.com/image/private/t_headshot_desktop/t_lazy/f_auto/league/vxnzv7tz7ntlmpthfb42 1x, https://static.www.nfl.com/image/private/t_headshot_desktop_2x/t_lazy/f_auto/league/vxnzv7tz7ntlmpthfb42 2x, https://static.www.nfl.com/image/private/t_headshot_desktop_3x/t_lazy/f_auto/league/vxnzv7tz7ntlmpthfb42\"><source media=\"(min-width:768px)\" srcset=\"https://static.www.nfl.com/image/private/t_headshot_tablet/t_lazy/f_auto/league/vxnzv7tz7ntlmpthfb42 1x, https://static.www.nfl.com/image/private/t_headshot_tablet_2x/t_lazy/f_auto/league/vxnzv7tz7ntlmpthfb42 2x, https://static.www.nfl.com/image/private/t_headshot_tablet_3x/t_lazy/f_auto/league/vxnzv7tz7ntlmpthfb42\"><source srcset=\"https://static.www.nfl.com/image/private/t_person_squared_mobile/t_lazy/f_auto/league/vxnzv7tz7ntlmpthfb42 1x, https://static.www.nfl.com/image/private/t_person_squared_mobile_2x/t_lazy/f_auto/league/vxnzv7tz7ntlmpthfb42 2x, https://static.www.nfl.com/image/private/t_person_squared_mobile_3x/t_lazy/f_auto/league/vxnzv7tz7ntlmpthfb42\"><!--[if IE 9]></video><![endif]--><img alt=\"\" class=\"img-responsive\" src=\"https://static.www.nfl.com/image/private/t_person_squared_mobile/t_lazy/f_auto/league/vxnzv7tz7ntlmpthfb42\"/></source></source></source></picture></figure><div class=\"d3-o-media-object__body\"><a aria-label=\"Geno Smith profile page\" class=\"d3-o-player-fullname nfl-o-cta--link\" href=\"/players/geno-smith/\"> Geno Smith </a></div></div></td><td class=\"selected\">4282</td><td>7.5</td><td>572</td><td>399</td><td>69.8</td><td>30</td><td>11</td><td>100.9</td><td>206</td><td>36</td><td>50</td><td>6</td><td>54</td><td>46</td><td>348</td></tr>\n",
            "<tr><td scope=\"row\" tabindex=\"0\"><div class=\"d3-o-media-object d3-o-media-object--vertical-center\"><figure class=\"d3-o-media-object__figure d3-o-player-headshot\"><picture is-lazy=\"/t_lazy\"><!--[if IE 9]><video style=\"display:none\"><![endif]--><source media=\"(min-width:1024px)\" srcset=\"https://static.www.nfl.com/image/private/t_headshot_desktop/t_lazy/f_auto/league/nel2x2crpaasltsb6vwj 1x, https://static.www.nfl.com/image/private/t_headshot_desktop_2x/t_lazy/f_auto/league/nel2x2crpaasltsb6vwj 2x, https://static.www.nfl.com/image/private/t_headshot_desktop_3x/t_lazy/f_auto/league/nel2x2crpaasltsb6vwj\"><source media=\"(min-width:768px)\" srcset=\"https://static.www.nfl.com/image/private/t_headshot_tablet/t_lazy/f_auto/league/nel2x2crpaasltsb6vwj 1x, https://static.www.nfl.com/image/private/t_headshot_tablet_2x/t_lazy/f_auto/league/nel2x2crpaasltsb6vwj 2x, https://static.www.nfl.com/image/private/t_headshot_tablet_3x/t_lazy/f_auto/league/nel2x2crpaasltsb6vwj\"><source srcset=\"https://static.www.nfl.com/image/private/t_person_squared_mobile/t_lazy/f_auto/league/nel2x2crpaasltsb6vwj 1x, https://static.www.nfl.com/image/private/t_person_squared_mobile_2x/t_lazy/f_auto/league/nel2x2crpaasltsb6vwj 2x, https://static.www.nfl.com/image/private/t_person_squared_mobile_3x/t_lazy/f_auto/league/nel2x2crpaasltsb6vwj\"><!--[if IE 9]></video><![endif]--><img alt=\"\" class=\"img-responsive\" src=\"https://static.www.nfl.com/image/private/t_person_squared_mobile/t_lazy/f_auto/league/nel2x2crpaasltsb6vwj\"/></source></source></source></picture></figure><div class=\"d3-o-media-object__body\"><a aria-label=\"Trevor Lawrence profile page\" class=\"d3-o-player-fullname nfl-o-cta--link\" href=\"/players/trevor-lawrence/\"> Trevor Lawrence </a></div></div></td><td class=\"selected\">4113</td><td>7</td><td>584</td><td>387</td><td>66.3</td><td>25</td><td>8</td><td>95.2</td><td>206</td><td>35.3</td><td>55</td><td>3</td><td>59</td><td>27</td><td>184</td></tr>\n",
            "<tr><td scope=\"row\" tabindex=\"0\"><div class=\"d3-o-media-object d3-o-media-object--vertical-center\"><figure class=\"d3-o-media-object__figure d3-o-player-headshot\"><picture is-lazy=\"/t_lazy\"><!--[if IE 9]><video style=\"display:none\"><![endif]--><source media=\"(min-width:1024px)\" srcset=\"https://static.www.nfl.com/image/private/t_headshot_desktop/t_lazy/f_auto/league/iv04omcunr78zezpnf8t 1x, https://static.www.nfl.com/image/private/t_headshot_desktop_2x/t_lazy/f_auto/league/iv04omcunr78zezpnf8t 2x, https://static.www.nfl.com/image/private/t_headshot_desktop_3x/t_lazy/f_auto/league/iv04omcunr78zezpnf8t\"><source media=\"(min-width:768px)\" srcset=\"https://static.www.nfl.com/image/private/t_headshot_tablet/t_lazy/f_auto/league/iv04omcunr78zezpnf8t 1x, https://static.www.nfl.com/image/private/t_headshot_tablet_2x/t_lazy/f_auto/league/iv04omcunr78zezpnf8t 2x, https://static.www.nfl.com/image/private/t_headshot_tablet_3x/t_lazy/f_auto/league/iv04omcunr78zezpnf8t\"><source srcset=\"https://static.www.nfl.com/image/private/t_person_squared_mobile/t_lazy/f_auto/league/iv04omcunr78zezpnf8t 1x, https://static.www.nfl.com/image/private/t_person_squared_mobile_2x/t_lazy/f_auto/league/iv04omcunr78zezpnf8t 2x, https://static.www.nfl.com/image/private/t_person_squared_mobile_3x/t_lazy/f_auto/league/iv04omcunr78zezpnf8t\"><!--[if IE 9]></video><![endif]--><img alt=\"\" class=\"img-responsive\" src=\"https://static.www.nfl.com/image/private/t_person_squared_mobile/t_lazy/f_auto/league/iv04omcunr78zezpnf8t\"/></source></source></source></picture></figure><div class=\"d3-o-media-object__body\"><a aria-label=\"Jalen Hurts profile page\" class=\"d3-o-player-fullname nfl-o-cta--link\" href=\"/players/jalen-hurts/\"> Jalen Hurts </a></div></div></td><td class=\"selected\">3701</td><td>8</td><td>460</td><td>306</td><td>66.5</td><td>22</td><td>6</td><td>101.6</td><td>165</td><td>35.9</td><td>52</td><td>11</td><td>68</td><td>38</td><td>231</td></tr>\n",
            "<tr><td scope=\"row\" tabindex=\"0\"><div class=\"d3-o-media-object d3-o-media-object--vertical-center\"><figure class=\"d3-o-media-object__figure d3-o-player-headshot\"><picture is-lazy=\"/t_lazy\"><!--[if IE 9]><video style=\"display:none\"><![endif]--><source media=\"(min-width:1024px)\" srcset=\"https://static.www.nfl.com/image/private/t_headshot_desktop/t_lazy/f_auto/league/mee42twdk3qpcdotzdka 1x, https://static.www.nfl.com/image/private/t_headshot_desktop_2x/t_lazy/f_auto/league/mee42twdk3qpcdotzdka 2x, https://static.www.nfl.com/image/private/t_headshot_desktop_3x/t_lazy/f_auto/league/mee42twdk3qpcdotzdka\"><source media=\"(min-width:768px)\" srcset=\"https://static.www.nfl.com/image/private/t_headshot_tablet/t_lazy/f_auto/league/mee42twdk3qpcdotzdka 1x, https://static.www.nfl.com/image/private/t_headshot_tablet_2x/t_lazy/f_auto/league/mee42twdk3qpcdotzdka 2x, https://static.www.nfl.com/image/private/t_headshot_tablet_3x/t_lazy/f_auto/league/mee42twdk3qpcdotzdka\"><source srcset=\"https://static.www.nfl.com/image/private/t_person_squared_mobile/t_lazy/f_auto/league/mee42twdk3qpcdotzdka 1x, https://static.www.nfl.com/image/private/t_person_squared_mobile_2x/t_lazy/f_auto/league/mee42twdk3qpcdotzdka 2x, https://static.www.nfl.com/image/private/t_person_squared_mobile_3x/t_lazy/f_auto/league/mee42twdk3qpcdotzdka\"><!--[if IE 9]></video><![endif]--><img alt=\"\" class=\"img-responsive\" src=\"https://static.www.nfl.com/image/private/t_person_squared_mobile/t_lazy/f_auto/league/mee42twdk3qpcdotzdka\"/></source></source></source></picture></figure><div class=\"d3-o-media-object__body\"><a aria-label=\"Aaron Rodgers profile page\" class=\"d3-o-player-fullname nfl-o-cta--link\" href=\"/players/aaron-rodgers/\"> Aaron Rodgers </a></div></div></td><td class=\"selected\">3695</td><td>6.8</td><td>542</td><td>350</td><td>64.6</td><td>26</td><td>12</td><td>91.1</td><td>177</td><td>32.7</td><td>53</td><td>6</td><td>58</td><td>32</td><td>258</td></tr>\n",
            "<tr><td scope=\"row\" tabindex=\"0\"><div class=\"d3-o-media-object d3-o-media-object--vertical-center\"><figure class=\"d3-o-media-object__figure d3-o-player-headshot\"><picture is-lazy=\"/t_lazy\"><!--[if IE 9]><video style=\"display:none\"><![endif]--><source media=\"(min-width:1024px)\" srcset=\"https://static.www.nfl.com/image/private/t_headshot_desktop/t_lazy/f_auto/league/dyrrl1knhcxqjwuvhcwm 1x, https://static.www.nfl.com/image/private/t_headshot_desktop_2x/t_lazy/f_auto/league/dyrrl1knhcxqjwuvhcwm 2x, https://static.www.nfl.com/image/private/t_headshot_desktop_3x/t_lazy/f_auto/league/dyrrl1knhcxqjwuvhcwm\"><source media=\"(min-width:768px)\" srcset=\"https://static.www.nfl.com/image/private/t_headshot_tablet/t_lazy/f_auto/league/dyrrl1knhcxqjwuvhcwm 1x, https://static.www.nfl.com/image/private/t_headshot_tablet_2x/t_lazy/f_auto/league/dyrrl1knhcxqjwuvhcwm 2x, https://static.www.nfl.com/image/private/t_headshot_tablet_3x/t_lazy/f_auto/league/dyrrl1knhcxqjwuvhcwm\"><source srcset=\"https://static.www.nfl.com/image/private/t_person_squared_mobile/t_lazy/f_auto/league/dyrrl1knhcxqjwuvhcwm 1x, https://static.www.nfl.com/image/private/t_person_squared_mobile_2x/t_lazy/f_auto/league/dyrrl1knhcxqjwuvhcwm 2x, https://static.www.nfl.com/image/private/t_person_squared_mobile_3x/t_lazy/f_auto/league/dyrrl1knhcxqjwuvhcwm\"><!--[if IE 9]></video><![endif]--><img alt=\"\" class=\"img-responsive\" src=\"https://static.www.nfl.com/image/private/t_person_squared_mobile/t_lazy/f_auto/league/dyrrl1knhcxqjwuvhcwm\"/></source></source></source></picture></figure><div class=\"d3-o-media-object__body\"><a aria-label=\"Tua Tagovailoa profile page\" class=\"d3-o-player-fullname nfl-o-cta--link\" href=\"/players/tua-tagovailoa/\"> Tua Tagovailoa </a></div></div></td><td class=\"selected\">3548</td><td>8.9</td><td>400</td><td>259</td><td>64.8</td><td>25</td><td>8</td><td>105.5</td><td>162</td><td>40.5</td><td>50</td><td>12</td><td>84</td><td>21</td><td>163</td></tr>\n",
            "<tr><td scope=\"row\" tabindex=\"0\"><div class=\"d3-o-media-object d3-o-media-object--vertical-center\"><figure class=\"d3-o-media-object__figure d3-o-player-headshot\"><picture is-lazy=\"/t_lazy\"><!--[if IE 9]><video style=\"display:none\"><![endif]--><source media=\"(min-width:1024px)\" srcset=\"https://static.www.nfl.com/image/private/t_headshot_desktop/t_lazy/f_auto/league/gebzv2aljujgleboe4ns 1x, https://static.www.nfl.com/image/private/t_headshot_desktop_2x/t_lazy/f_auto/league/gebzv2aljujgleboe4ns 2x, https://static.www.nfl.com/image/private/t_headshot_desktop_3x/t_lazy/f_auto/league/gebzv2aljujgleboe4ns\"><source media=\"(min-width:768px)\" srcset=\"https://static.www.nfl.com/image/private/t_headshot_tablet/t_lazy/f_auto/league/gebzv2aljujgleboe4ns 1x, https://static.www.nfl.com/image/private/t_headshot_tablet_2x/t_lazy/f_auto/league/gebzv2aljujgleboe4ns 2x, https://static.www.nfl.com/image/private/t_headshot_tablet_3x/t_lazy/f_auto/league/gebzv2aljujgleboe4ns\"><source srcset=\"https://static.www.nfl.com/image/private/t_person_squared_mobile/t_lazy/f_auto/league/gebzv2aljujgleboe4ns 1x, https://static.www.nfl.com/image/private/t_person_squared_mobile_2x/t_lazy/f_auto/league/gebzv2aljujgleboe4ns 2x, https://static.www.nfl.com/image/private/t_person_squared_mobile_3x/t_lazy/f_auto/league/gebzv2aljujgleboe4ns\"><!--[if IE 9]></video><![endif]--><img alt=\"\" class=\"img-responsive\" src=\"https://static.www.nfl.com/image/private/t_person_squared_mobile/t_lazy/f_auto/league/gebzv2aljujgleboe4ns\"/></source></source></source></picture></figure><div class=\"d3-o-media-object__body\"><a aria-label=\"Russell Wilson profile page\" class=\"d3-o-player-fullname nfl-o-cta--link\" href=\"/players/russell-wilson/\"> Russell Wilson </a></div></div></td><td class=\"selected\">3524</td><td>7.3</td><td>483</td><td>292</td><td>60.5</td><td>16</td><td>11</td><td>84.4</td><td>142</td><td>29.4</td><td>54</td><td>11</td><td>67</td><td>55</td><td>368</td></tr>\n",
            "<tr><td scope=\"row\" tabindex=\"0\"><div class=\"d3-o-media-object d3-o-media-object--vertical-center\"><figure class=\"d3-o-media-object__figure d3-o-player-headshot\"><picture is-lazy=\"/t_lazy\"><!--[if IE 9]><video style=\"display:none\"><![endif]--><source media=\"(min-width:1024px)\" srcset=\"https://static.www.nfl.com/image/private/t_headshot_desktop/t_lazy/f_auto/league/l1eqjrajbnisr91dmlcl 1x, https://static.www.nfl.com/image/private/t_headshot_desktop_2x/t_lazy/f_auto/league/l1eqjrajbnisr91dmlcl 2x, https://static.www.nfl.com/image/private/t_headshot_desktop_3x/t_lazy/f_auto/league/l1eqjrajbnisr91dmlcl\"><source media=\"(min-width:768px)\" srcset=\"https://static.www.nfl.com/image/private/t_headshot_tablet/t_lazy/f_auto/league/l1eqjrajbnisr91dmlcl 1x, https://static.www.nfl.com/image/private/t_headshot_tablet_2x/t_lazy/f_auto/league/l1eqjrajbnisr91dmlcl 2x, https://static.www.nfl.com/image/private/t_headshot_tablet_3x/t_lazy/f_auto/league/l1eqjrajbnisr91dmlcl\"><source srcset=\"https://static.www.nfl.com/image/private/t_person_squared_mobile/t_lazy/f_auto/league/l1eqjrajbnisr91dmlcl 1x, https://static.www.nfl.com/image/private/t_person_squared_mobile_2x/t_lazy/f_auto/league/l1eqjrajbnisr91dmlcl 2x, https://static.www.nfl.com/image/private/t_person_squared_mobile_3x/t_lazy/f_auto/league/l1eqjrajbnisr91dmlcl\"><!--[if IE 9]></video><![endif]--><img alt=\"\" class=\"img-responsive\" src=\"https://static.www.nfl.com/image/private/t_person_squared_mobile/t_lazy/f_auto/league/l1eqjrajbnisr91dmlcl\"/></source></source></source></picture></figure><div class=\"d3-o-media-object__body\"><a aria-label=\"Derek Carr profile page\" class=\"d3-o-player-fullname nfl-o-cta--link\" href=\"/players/derek-carr/\"> Derek Carr </a></div></div></td><td class=\"selected\">3522</td><td>7</td><td>502</td><td>305</td><td>60.8</td><td>24</td><td>14</td><td>86.3</td><td>161</td><td>32.1</td><td>47</td><td>8</td><td>60</td><td>27</td><td>191</td></tr>\n",
            "<tr><td scope=\"row\" tabindex=\"0\"><div class=\"d3-o-media-object d3-o-media-object--vertical-center\"><figure class=\"d3-o-media-object__figure d3-o-player-headshot\"><picture is-lazy=\"/t_lazy\"><!--[if IE 9]><video style=\"display:none\"><![endif]--><source media=\"(min-width:1024px)\" srcset=\"https://static.www.nfl.com/image/private/t_headshot_desktop/t_lazy/f_auto/league/af6nbjqa6qubnu8oi4ms 1x, https://static.www.nfl.com/image/private/t_headshot_desktop_2x/t_lazy/f_auto/league/af6nbjqa6qubnu8oi4ms 2x, https://static.www.nfl.com/image/private/t_headshot_desktop_3x/t_lazy/f_auto/league/af6nbjqa6qubnu8oi4ms\"><source media=\"(min-width:768px)\" srcset=\"https://static.www.nfl.com/image/private/t_headshot_tablet/t_lazy/f_auto/league/af6nbjqa6qubnu8oi4ms 1x, https://static.www.nfl.com/image/private/t_headshot_tablet_2x/t_lazy/f_auto/league/af6nbjqa6qubnu8oi4ms 2x, https://static.www.nfl.com/image/private/t_headshot_tablet_3x/t_lazy/f_auto/league/af6nbjqa6qubnu8oi4ms\"><source srcset=\"https://static.www.nfl.com/image/private/t_person_squared_mobile/t_lazy/f_auto/league/af6nbjqa6qubnu8oi4ms 1x, https://static.www.nfl.com/image/private/t_person_squared_mobile_2x/t_lazy/f_auto/league/af6nbjqa6qubnu8oi4ms 2x, https://static.www.nfl.com/image/private/t_person_squared_mobile_3x/t_lazy/f_auto/league/af6nbjqa6qubnu8oi4ms\"><!--[if IE 9]></video><![endif]--><img alt=\"\" class=\"img-responsive\" src=\"https://static.www.nfl.com/image/private/t_person_squared_mobile/t_lazy/f_auto/league/af6nbjqa6qubnu8oi4ms\"/></source></source></source></picture></figure><div class=\"d3-o-media-object__body\"><a aria-label=\"Daniel Jones profile page\" class=\"d3-o-player-fullname nfl-o-cta--link\" href=\"/players/daniel-jones-x5302/\"> Daniel Jones </a></div></div></td><td class=\"selected\">3205</td><td>6.8</td><td>472</td><td>317</td><td>67.2</td><td>15</td><td>5</td><td>92.5</td><td>156</td><td>33</td><td>27</td><td>5</td><td>65</td><td>44</td><td>243</td></tr>\n",
            "<tr><td scope=\"row\" tabindex=\"0\"><div class=\"d3-o-media-object d3-o-media-object--vertical-center\"><figure class=\"d3-o-media-object__figure d3-o-player-headshot\"><picture is-lazy=\"/t_lazy\"><!--[if IE 9]><video style=\"display:none\"><![endif]--><source media=\"(min-width:1024px)\" srcset=\"https://static.www.nfl.com/image/private/t_headshot_desktop/t_lazy/f_auto/league/objv34ak0xhzjvixm5sr 1x, https://static.www.nfl.com/image/private/t_headshot_desktop_2x/t_lazy/f_auto/league/objv34ak0xhzjvixm5sr 2x, https://static.www.nfl.com/image/private/t_headshot_desktop_3x/t_lazy/f_auto/league/objv34ak0xhzjvixm5sr\"><source media=\"(min-width:768px)\" srcset=\"https://static.www.nfl.com/image/private/t_headshot_tablet/t_lazy/f_auto/league/objv34ak0xhzjvixm5sr 1x, https://static.www.nfl.com/image/private/t_headshot_tablet_2x/t_lazy/f_auto/league/objv34ak0xhzjvixm5sr 2x, https://static.www.nfl.com/image/private/t_headshot_tablet_3x/t_lazy/f_auto/league/objv34ak0xhzjvixm5sr\"><source srcset=\"https://static.www.nfl.com/image/private/t_person_squared_mobile/t_lazy/f_auto/league/objv34ak0xhzjvixm5sr 1x, https://static.www.nfl.com/image/private/t_person_squared_mobile_2x/t_lazy/f_auto/league/objv34ak0xhzjvixm5sr 2x, https://static.www.nfl.com/image/private/t_person_squared_mobile_3x/t_lazy/f_auto/league/objv34ak0xhzjvixm5sr\"><!--[if IE 9]></video><![endif]--><img alt=\"\" class=\"img-responsive\" src=\"https://static.www.nfl.com/image/private/t_person_squared_mobile/t_lazy/f_auto/league/objv34ak0xhzjvixm5sr\"/></source></source></source></picture></figure><div class=\"d3-o-media-object__body\"><a aria-label=\"Davis Mills profile page\" class=\"d3-o-player-fullname nfl-o-cta--link\" href=\"/players/davis-mills/\"> Davis Mills </a></div></div></td><td class=\"selected\">3118</td><td>6.5</td><td>479</td><td>292</td><td>61</td><td>17</td><td>15</td><td>78.8</td><td>135</td><td>28.2</td><td>50</td><td>7</td><td>58</td><td>31</td><td>244</td></tr>\n",
            "<tr><td scope=\"row\" tabindex=\"0\"><div class=\"d3-o-media-object d3-o-media-object--vertical-center\"><figure class=\"d3-o-media-object__figure d3-o-player-headshot\"><picture is-lazy=\"/t_lazy\"><!--[if IE 9]><video style=\"display:none\"><![endif]--><source media=\"(min-width:1024px)\" srcset=\"https://static.www.nfl.com/image/private/t_headshot_desktop/t_lazy/f_auto/league/s6zam4ekrrnonsck6vak 1x, https://static.www.nfl.com/image/private/t_headshot_desktop_2x/t_lazy/f_auto/league/s6zam4ekrrnonsck6vak 2x, https://static.www.nfl.com/image/private/t_headshot_desktop_3x/t_lazy/f_auto/league/s6zam4ekrrnonsck6vak\"><source media=\"(min-width:768px)\" srcset=\"https://static.www.nfl.com/image/private/t_headshot_tablet/t_lazy/f_auto/league/s6zam4ekrrnonsck6vak 1x, https://static.www.nfl.com/image/private/t_headshot_tablet_2x/t_lazy/f_auto/league/s6zam4ekrrnonsck6vak 2x, https://static.www.nfl.com/image/private/t_headshot_tablet_3x/t_lazy/f_auto/league/s6zam4ekrrnonsck6vak\"><source srcset=\"https://static.www.nfl.com/image/private/t_person_squared_mobile/t_lazy/f_auto/league/s6zam4ekrrnonsck6vak 1x, https://static.www.nfl.com/image/private/t_person_squared_mobile_2x/t_lazy/f_auto/league/s6zam4ekrrnonsck6vak 2x, https://static.www.nfl.com/image/private/t_person_squared_mobile_3x/t_lazy/f_auto/league/s6zam4ekrrnonsck6vak\"><!--[if IE 9]></video><![endif]--><img alt=\"\" class=\"img-responsive\" src=\"https://static.www.nfl.com/image/private/t_person_squared_mobile/t_lazy/f_auto/league/s6zam4ekrrnonsck6vak\"/></source></source></source></picture></figure><div class=\"d3-o-media-object__body\"><a aria-label=\"Matt Ryan profile page\" class=\"d3-o-player-fullname nfl-o-cta--link\" href=\"/players/matt-ryan/\"> Matt Ryan </a></div></div></td><td class=\"selected\">3057</td><td>6.6</td><td>461</td><td>309</td><td>67</td><td>14</td><td>13</td><td>83.9</td><td>156</td><td>33.8</td><td>33</td><td>2</td><td>45</td><td>38</td><td>287</td></tr>\n",
            "<tr><td scope=\"row\" tabindex=\"0\"><div class=\"d3-o-media-object d3-o-media-object--vertical-center\"><figure class=\"d3-o-media-object__figure d3-o-player-headshot\"><picture is-lazy=\"/t_lazy\"><!--[if IE 9]><video style=\"display:none\"><![endif]--><source media=\"(min-width:1024px)\" srcset=\"https://static.www.nfl.com/image/private/t_headshot_desktop/t_lazy/f_auto/league/hhexcwf5oe7onhlemzq9 1x, https://static.www.nfl.com/image/private/t_headshot_desktop_2x/t_lazy/f_auto/league/hhexcwf5oe7onhlemzq9 2x, https://static.www.nfl.com/image/private/t_headshot_desktop_3x/t_lazy/f_auto/league/hhexcwf5oe7onhlemzq9\"><source media=\"(min-width:768px)\" srcset=\"https://static.www.nfl.com/image/private/t_headshot_tablet/t_lazy/f_auto/league/hhexcwf5oe7onhlemzq9 1x, https://static.www.nfl.com/image/private/t_headshot_tablet_2x/t_lazy/f_auto/league/hhexcwf5oe7onhlemzq9 2x, https://static.www.nfl.com/image/private/t_headshot_tablet_3x/t_lazy/f_auto/league/hhexcwf5oe7onhlemzq9\"><source srcset=\"https://static.www.nfl.com/image/private/t_person_squared_mobile/t_lazy/f_auto/league/hhexcwf5oe7onhlemzq9 1x, https://static.www.nfl.com/image/private/t_person_squared_mobile_2x/t_lazy/f_auto/league/hhexcwf5oe7onhlemzq9 2x, https://static.www.nfl.com/image/private/t_person_squared_mobile_3x/t_lazy/f_auto/league/hhexcwf5oe7onhlemzq9\"><!--[if IE 9]></video><![endif]--><img alt=\"\" class=\"img-responsive\" src=\"https://static.www.nfl.com/image/private/t_person_squared_mobile/t_lazy/f_auto/league/hhexcwf5oe7onhlemzq9\"/></source></source></source></picture></figure><div class=\"d3-o-media-object__body\"><a aria-label=\"Mac Jones profile page\" class=\"d3-o-player-fullname nfl-o-cta--link\" href=\"/players/mac-jones/\"> Mac Jones </a></div></div></td><td class=\"selected\">2997</td><td>6.8</td><td>442</td><td>288</td><td>65.2</td><td>14</td><td>11</td><td>84.8</td><td>127</td><td>28.7</td><td>42</td><td>7</td><td>48</td><td>34</td><td>231</td></tr>\n",
            "<tr><td scope=\"row\" tabindex=\"0\"><div class=\"d3-o-media-object d3-o-media-object--vertical-center\"><figure class=\"d3-o-media-object__figure d3-o-player-headshot\"><picture is-lazy=\"/t_lazy\"><!--[if IE 9]><video style=\"display:none\"><![endif]--><source media=\"(min-width:1024px)\" srcset=\"https://static.www.nfl.com/image/private/t_headshot_desktop/t_lazy/f_auto/league/yhkh8vtc5ocjo3iyn9ug 1x, https://static.www.nfl.com/image/private/t_headshot_desktop_2x/t_lazy/f_auto/league/yhkh8vtc5ocjo3iyn9ug 2x, https://static.www.nfl.com/image/private/t_headshot_desktop_3x/t_lazy/f_auto/league/yhkh8vtc5ocjo3iyn9ug\"><source media=\"(min-width:768px)\" srcset=\"https://static.www.nfl.com/image/private/t_headshot_tablet/t_lazy/f_auto/league/yhkh8vtc5ocjo3iyn9ug 1x, https://static.www.nfl.com/image/private/t_headshot_tablet_2x/t_lazy/f_auto/league/yhkh8vtc5ocjo3iyn9ug 2x, https://static.www.nfl.com/image/private/t_headshot_tablet_3x/t_lazy/f_auto/league/yhkh8vtc5ocjo3iyn9ug\"><source srcset=\"https://static.www.nfl.com/image/private/t_person_squared_mobile/t_lazy/f_auto/league/yhkh8vtc5ocjo3iyn9ug 1x, https://static.www.nfl.com/image/private/t_person_squared_mobile_2x/t_lazy/f_auto/league/yhkh8vtc5ocjo3iyn9ug 2x, https://static.www.nfl.com/image/private/t_person_squared_mobile_3x/t_lazy/f_auto/league/yhkh8vtc5ocjo3iyn9ug\"><!--[if IE 9]></video><![endif]--><img alt=\"\" class=\"img-responsive\" src=\"https://static.www.nfl.com/image/private/t_person_squared_mobile/t_lazy/f_auto/league/yhkh8vtc5ocjo3iyn9ug\"/></source></source></source></picture></figure><div class=\"d3-o-media-object__body\"><a aria-label=\"Andy Dalton profile page\" class=\"d3-o-player-fullname nfl-o-cta--link\" href=\"/players/andy-dalton/\"> Andy Dalton </a></div></div></td><td class=\"selected\">2871</td><td>7.6</td><td>378</td><td>252</td><td>66.7</td><td>18</td><td>9</td><td>95.2</td><td>135</td><td>35.7</td><td>28</td><td>7</td><td>64</td><td>25</td><td>189</td></tr>\n",
            "<tr><td scope=\"row\" tabindex=\"0\"><div class=\"d3-o-media-object d3-o-media-object--vertical-center\"><figure class=\"d3-o-media-object__figure d3-o-player-headshot\"><picture is-lazy=\"/t_lazy\"><!--[if IE 9]><video style=\"display:none\"><![endif]--><source media=\"(min-width:1024px)\" srcset=\"https://static.www.nfl.com/image/private/t_headshot_desktop/t_lazy/f_auto/league/ofhu8bvafse5folcjzyu 1x, https://static.www.nfl.com/image/private/t_headshot_desktop_2x/t_lazy/f_auto/league/ofhu8bvafse5folcjzyu 2x, https://static.www.nfl.com/image/private/t_headshot_desktop_3x/t_lazy/f_auto/league/ofhu8bvafse5folcjzyu\"><source media=\"(min-width:768px)\" srcset=\"https://static.www.nfl.com/image/private/t_headshot_tablet/t_lazy/f_auto/league/ofhu8bvafse5folcjzyu 1x, https://static.www.nfl.com/image/private/t_headshot_tablet_2x/t_lazy/f_auto/league/ofhu8bvafse5folcjzyu 2x, https://static.www.nfl.com/image/private/t_headshot_tablet_3x/t_lazy/f_auto/league/ofhu8bvafse5folcjzyu\"><source srcset=\"https://static.www.nfl.com/image/private/t_person_squared_mobile/t_lazy/f_auto/league/ofhu8bvafse5folcjzyu 1x, https://static.www.nfl.com/image/private/t_person_squared_mobile_2x/t_lazy/f_auto/league/ofhu8bvafse5folcjzyu 2x, https://static.www.nfl.com/image/private/t_person_squared_mobile_3x/t_lazy/f_auto/league/ofhu8bvafse5folcjzyu\"><!--[if IE 9]></video><![endif]--><img alt=\"\" class=\"img-responsive\" src=\"https://static.www.nfl.com/image/private/t_person_squared_mobile/t_lazy/f_auto/league/ofhu8bvafse5folcjzyu\"/></source></source></source></picture></figure><div class=\"d3-o-media-object__body\"><a aria-label=\"Dak Prescott profile page\" class=\"d3-o-player-fullname nfl-o-cta--link\" href=\"/players/dak-prescott/\"> Dak Prescott </a></div></div></td><td class=\"selected\">2860</td><td>7.3</td><td>394</td><td>261</td><td>66.2</td><td>23</td><td>15</td><td>91.1</td><td>142</td><td>36</td><td>37</td><td>3</td><td>68</td><td>20</td><td>126</td></tr>\n",
            "<tr><td scope=\"row\" tabindex=\"0\"><div class=\"d3-o-media-object d3-o-media-object--vertical-center\"><figure class=\"d3-o-media-object__figure d3-o-player-headshot\"><picture is-lazy=\"/t_lazy\"><!--[if IE 9]><video style=\"display:none\"><![endif]--><source media=\"(min-width:1024px)\" srcset=\"https://static.www.nfl.com/image/private/t_headshot_desktop/t_lazy/f_auto/league/z12an2n54jj6ycouwg9h 1x, https://static.www.nfl.com/image/private/t_headshot_desktop_2x/t_lazy/f_auto/league/z12an2n54jj6ycouwg9h 2x, https://static.www.nfl.com/image/private/t_headshot_desktop_3x/t_lazy/f_auto/league/z12an2n54jj6ycouwg9h\"><source media=\"(min-width:768px)\" srcset=\"https://static.www.nfl.com/image/private/t_headshot_tablet/t_lazy/f_auto/league/z12an2n54jj6ycouwg9h 1x, https://static.www.nfl.com/image/private/t_headshot_tablet_2x/t_lazy/f_auto/league/z12an2n54jj6ycouwg9h 2x, https://static.www.nfl.com/image/private/t_headshot_tablet_3x/t_lazy/f_auto/league/z12an2n54jj6ycouwg9h\"><source srcset=\"https://static.www.nfl.com/image/private/t_person_squared_mobile/t_lazy/f_auto/league/z12an2n54jj6ycouwg9h 1x, https://static.www.nfl.com/image/private/t_person_squared_mobile_2x/t_lazy/f_auto/league/z12an2n54jj6ycouwg9h 2x, https://static.www.nfl.com/image/private/t_person_squared_mobile_3x/t_lazy/f_auto/league/z12an2n54jj6ycouwg9h\"><!--[if IE 9]></video><![endif]--><img alt=\"\" class=\"img-responsive\" src=\"https://static.www.nfl.com/image/private/t_person_squared_mobile/t_lazy/f_auto/league/z12an2n54jj6ycouwg9h\"/></source></source></source></picture></figure><div class=\"d3-o-media-object__body\"><a aria-label=\"Jacoby Brissett profile page\" class=\"d3-o-player-fullname nfl-o-cta--link\" href=\"/players/jacoby-brissett/\"> Jacoby Brissett </a></div></div></td><td class=\"selected\">2608</td><td>7.1</td><td>369</td><td>236</td><td>64</td><td>12</td><td>6</td><td>88.9</td><td>129</td><td>35</td><td>32</td><td>4</td><td>55</td><td>24</td><td>160</td></tr>\n",
            "<tr><td scope=\"row\" tabindex=\"0\"><div class=\"d3-o-media-object d3-o-media-object--vertical-center\"><figure class=\"d3-o-media-object__figure d3-o-player-headshot\"><picture is-lazy=\"/t_lazy\"><!--[if IE 9]><video style=\"display:none\"><![endif]--><source media=\"(min-width:1024px)\" srcset=\"https://static.www.nfl.com/image/private/t_headshot_desktop/t_lazy/f_auto/league/ns30g7th6gkhjaeoivgj 1x, https://static.www.nfl.com/image/private/t_headshot_desktop_2x/t_lazy/f_auto/league/ns30g7th6gkhjaeoivgj 2x, https://static.www.nfl.com/image/private/t_headshot_desktop_3x/t_lazy/f_auto/league/ns30g7th6gkhjaeoivgj\"><source media=\"(min-width:768px)\" srcset=\"https://static.www.nfl.com/image/private/t_headshot_tablet/t_lazy/f_auto/league/ns30g7th6gkhjaeoivgj 1x, https://static.www.nfl.com/image/private/t_headshot_tablet_2x/t_lazy/f_auto/league/ns30g7th6gkhjaeoivgj 2x, https://static.www.nfl.com/image/private/t_headshot_tablet_3x/t_lazy/f_auto/league/ns30g7th6gkhjaeoivgj\"><source srcset=\"https://static.www.nfl.com/image/private/t_person_squared_mobile/t_lazy/f_auto/league/ns30g7th6gkhjaeoivgj 1x, https://static.www.nfl.com/image/private/t_person_squared_mobile_2x/t_lazy/f_auto/league/ns30g7th6gkhjaeoivgj 2x, https://static.www.nfl.com/image/private/t_person_squared_mobile_3x/t_lazy/f_auto/league/ns30g7th6gkhjaeoivgj\"><!--[if IE 9]></video><![endif]--><img alt=\"\" class=\"img-responsive\" src=\"https://static.www.nfl.com/image/private/t_person_squared_mobile/t_lazy/f_auto/league/ns30g7th6gkhjaeoivgj\"/></source></source></source></picture></figure><div class=\"d3-o-media-object__body\"><a aria-label=\"Ryan Tannehill profile page\" class=\"d3-o-player-fullname nfl-o-cta--link\" href=\"/players/ryan-tannehill/\"> Ryan Tannehill </a></div></div></td><td class=\"selected\">2536</td><td>7.8</td><td>325</td><td>212</td><td>65.2</td><td>13</td><td>6</td><td>94.6</td><td>116</td><td>35.7</td><td>35</td><td>10</td><td>69</td><td>33</td><td>238</td></tr>\n",
            "<tr><td scope=\"row\" tabindex=\"0\"><div class=\"d3-o-media-object d3-o-media-object--vertical-center\"><figure class=\"d3-o-media-object__figure d3-o-player-headshot\"><picture is-lazy=\"/t_lazy\"><!--[if IE 9]><video style=\"display:none\"><![endif]--><source media=\"(min-width:1024px)\" srcset=\"https://static.www.nfl.com/image/private/t_headshot_desktop/t_lazy/f_auto/league/fuepwtifp7wd9grpzvwb 1x, https://static.www.nfl.com/image/private/t_headshot_desktop_2x/t_lazy/f_auto/league/fuepwtifp7wd9grpzvwb 2x, https://static.www.nfl.com/image/private/t_headshot_desktop_3x/t_lazy/f_auto/league/fuepwtifp7wd9grpzvwb\"><source media=\"(min-width:768px)\" srcset=\"https://static.www.nfl.com/image/private/t_headshot_tablet/t_lazy/f_auto/league/fuepwtifp7wd9grpzvwb 1x, https://static.www.nfl.com/image/private/t_headshot_tablet_2x/t_lazy/f_auto/league/fuepwtifp7wd9grpzvwb 2x, https://static.www.nfl.com/image/private/t_headshot_tablet_3x/t_lazy/f_auto/league/fuepwtifp7wd9grpzvwb\"><source srcset=\"https://static.www.nfl.com/image/private/t_person_squared_mobile/t_lazy/f_auto/league/fuepwtifp7wd9grpzvwb 1x, https://static.www.nfl.com/image/private/t_person_squared_mobile_2x/t_lazy/f_auto/league/fuepwtifp7wd9grpzvwb 2x, https://static.www.nfl.com/image/private/t_person_squared_mobile_3x/t_lazy/f_auto/league/fuepwtifp7wd9grpzvwb\"><!--[if IE 9]></video><![endif]--><img alt=\"\" class=\"img-responsive\" src=\"https://static.www.nfl.com/image/private/t_person_squared_mobile/t_lazy/f_auto/league/fuepwtifp7wd9grpzvwb\"/></source></source></source></picture></figure><div class=\"d3-o-media-object__body\"><a aria-label=\"Jimmy Garoppolo profile page\" class=\"d3-o-player-fullname nfl-o-cta--link\" href=\"/players/jimmy-garoppolo/\"> Jimmy Garoppolo </a></div></div></td><td class=\"selected\">2437</td><td>7.9</td><td>308</td><td>207</td><td>67.2</td><td>16</td><td>4</td><td>103</td><td>114</td><td>37</td><td>31</td><td>2</td><td>57</td><td>18</td><td>100</td></tr>\n",
            "<tr><td scope=\"row\" tabindex=\"0\"><div class=\"d3-o-media-object d3-o-media-object--vertical-center\"><figure class=\"d3-o-media-object__figure d3-o-player-headshot\"><picture is-lazy=\"/t_lazy\"><!--[if IE 9]><video style=\"display:none\"><![endif]--><source media=\"(min-width:1024px)\" srcset=\"https://static.www.nfl.com/image/private/t_headshot_desktop/t_lazy/f_auto/league/vbabaquryx2jw1uahay2 1x, https://static.www.nfl.com/image/private/t_headshot_desktop_2x/t_lazy/f_auto/league/vbabaquryx2jw1uahay2 2x, https://static.www.nfl.com/image/private/t_headshot_desktop_3x/t_lazy/f_auto/league/vbabaquryx2jw1uahay2\"><source media=\"(min-width:768px)\" srcset=\"https://static.www.nfl.com/image/private/t_headshot_tablet/t_lazy/f_auto/league/vbabaquryx2jw1uahay2 1x, https://static.www.nfl.com/image/private/t_headshot_tablet_2x/t_lazy/f_auto/league/vbabaquryx2jw1uahay2 2x, https://static.www.nfl.com/image/private/t_headshot_tablet_3x/t_lazy/f_auto/league/vbabaquryx2jw1uahay2\"><source srcset=\"https://static.www.nfl.com/image/private/t_person_squared_mobile/t_lazy/f_auto/league/vbabaquryx2jw1uahay2 1x, https://static.www.nfl.com/image/private/t_person_squared_mobile_2x/t_lazy/f_auto/league/vbabaquryx2jw1uahay2 2x, https://static.www.nfl.com/image/private/t_person_squared_mobile_3x/t_lazy/f_auto/league/vbabaquryx2jw1uahay2\"><!--[if IE 9]></video><![endif]--><img alt=\"\" class=\"img-responsive\" src=\"https://static.www.nfl.com/image/private/t_person_squared_mobile/t_lazy/f_auto/league/vbabaquryx2jw1uahay2\"/></source></source></source></picture></figure><div class=\"d3-o-media-object__body\"><a aria-label=\"Kenny Pickett profile page\" class=\"d3-o-player-fullname nfl-o-cta--link\" href=\"/players/kenny-pickett/\"> Kenny Pickett </a></div></div></td><td class=\"selected\">2404</td><td>6.2</td><td>389</td><td>245</td><td>63</td><td>7</td><td>9</td><td>76.7</td><td>123</td><td>31.6</td><td>28</td><td>1</td><td>57</td><td>27</td><td>182</td></tr>\n",
            "<tr><td scope=\"row\" tabindex=\"0\"><div class=\"d3-o-media-object d3-o-media-object--vertical-center\"><figure class=\"d3-o-media-object__figure d3-o-player-headshot\"><picture is-lazy=\"/t_lazy\"><!--[if IE 9]><video style=\"display:none\"><![endif]--><source media=\"(min-width:1024px)\" srcset=\"https://static.www.nfl.com/image/private/t_headshot_desktop/t_lazy/f_auto/league/nkb9x92lbea6ayknzoba 1x, https://static.www.nfl.com/image/private/t_headshot_desktop_2x/t_lazy/f_auto/league/nkb9x92lbea6ayknzoba 2x, https://static.www.nfl.com/image/private/t_headshot_desktop_3x/t_lazy/f_auto/league/nkb9x92lbea6ayknzoba\"><source media=\"(min-width:768px)\" srcset=\"https://static.www.nfl.com/image/private/t_headshot_tablet/t_lazy/f_auto/league/nkb9x92lbea6ayknzoba 1x, https://static.www.nfl.com/image/private/t_headshot_tablet_2x/t_lazy/f_auto/league/nkb9x92lbea6ayknzoba 2x, https://static.www.nfl.com/image/private/t_headshot_tablet_3x/t_lazy/f_auto/league/nkb9x92lbea6ayknzoba\"><source srcset=\"https://static.www.nfl.com/image/private/t_person_squared_mobile/t_lazy/f_auto/league/nkb9x92lbea6ayknzoba 1x, https://static.www.nfl.com/image/private/t_person_squared_mobile_2x/t_lazy/f_auto/league/nkb9x92lbea6ayknzoba 2x, https://static.www.nfl.com/image/private/t_person_squared_mobile_3x/t_lazy/f_auto/league/nkb9x92lbea6ayknzoba\"><!--[if IE 9]></video><![endif]--><img alt=\"\" class=\"img-responsive\" src=\"https://static.www.nfl.com/image/private/t_person_squared_mobile/t_lazy/f_auto/league/nkb9x92lbea6ayknzoba\"/></source></source></source></picture></figure><div class=\"d3-o-media-object__body\"><a aria-label=\"Kyler Murray profile page\" class=\"d3-o-player-fullname nfl-o-cta--link\" href=\"/players/kyler-murray/\"> Kyler Murray </a></div></div></td><td class=\"selected\">2368</td><td>6.1</td><td>390</td><td>259</td><td>66.4</td><td>14</td><td>7</td><td>87.2</td><td>119</td><td>30.5</td><td>27</td><td>0</td><td>38</td><td>25</td><td>192</td></tr>\n"
          ]
        }
      ],
      "source": [
        "for i in pass_stat.find_all(\"tr\"):\n",
        "    print(i)"
      ]
    },
    {
      "cell_type": "code",
      "execution_count": null,
      "id": "d9b2ccc4",
      "metadata": {
        "id": "d9b2ccc4"
      },
      "outputs": [],
      "source": [
        "player=[]\n",
        "for i in pass_stat.find_all(\"tr\"):\n",
        "    ply=i.find(\"td\",attrs={\"scope\":\"row\"})\n",
        "    player.append(ply.text)"
      ]
    },
    {
      "cell_type": "code",
      "execution_count": null,
      "id": "21a7cf4b",
      "metadata": {
        "id": "21a7cf4b",
        "outputId": "03e038ce-c509-4ae5-d0b8-5f1c0e7e96ed"
      },
      "outputs": [
        {
          "data": {
            "text/plain": [
              "[' Patrick Mahomes ',\n",
              " ' Justin Herbert ',\n",
              " ' Tom Brady ',\n",
              " ' Kirk Cousins ',\n",
              " ' Joe Burrow ',\n",
              " ' Jared Goff ',\n",
              " ' Josh Allen ',\n",
              " ' Geno Smith ',\n",
              " ' Trevor Lawrence ',\n",
              " ' Jalen Hurts ',\n",
              " ' Aaron Rodgers ',\n",
              " ' Tua Tagovailoa ',\n",
              " ' Russell Wilson ',\n",
              " ' Derek Carr ',\n",
              " ' Daniel Jones ',\n",
              " ' Davis Mills ',\n",
              " ' Matt Ryan ',\n",
              " ' Mac Jones ',\n",
              " ' Andy Dalton ',\n",
              " ' Dak Prescott ',\n",
              " ' Jacoby Brissett ',\n",
              " ' Ryan Tannehill ',\n",
              " ' Jimmy Garoppolo ',\n",
              " ' Kenny Pickett ',\n",
              " ' Kyler Murray ']"
            ]
          },
          "execution_count": 24,
          "metadata": {},
          "output_type": "execute_result"
        }
      ],
      "source": [
        "player"
      ]
    },
    {
      "cell_type": "code",
      "execution_count": null,
      "id": "c5c05989",
      "metadata": {
        "id": "c5c05989"
      },
      "outputs": [],
      "source": [
        "passyds=[]\n",
        "for i in pass_stat.find_all(\"tr\"):\n",
        "    psyd=i.find(\"td\",attrs={\"class\":\"selected\"})\n",
        "    passyds.append(psyd.text)"
      ]
    },
    {
      "cell_type": "code",
      "execution_count": null,
      "id": "38222056",
      "metadata": {
        "id": "38222056",
        "outputId": "a6eea011-4d30-4904-b98b-79365c59ee3c"
      },
      "outputs": [
        {
          "data": {
            "text/plain": [
              "['5250',\n",
              " '4739',\n",
              " '4694',\n",
              " '4547',\n",
              " '4475',\n",
              " '4438',\n",
              " '4283',\n",
              " '4282',\n",
              " '4113',\n",
              " '3701',\n",
              " '3695',\n",
              " '3548',\n",
              " '3524',\n",
              " '3522',\n",
              " '3205',\n",
              " '3118',\n",
              " '3057',\n",
              " '2997',\n",
              " '2871',\n",
              " '2860',\n",
              " '2608',\n",
              " '2536',\n",
              " '2437',\n",
              " '2404',\n",
              " '2368']"
            ]
          },
          "execution_count": 26,
          "metadata": {},
          "output_type": "execute_result"
        }
      ],
      "source": [
        "passyds"
      ]
    },
    {
      "cell_type": "code",
      "execution_count": null,
      "id": "6f99fd0b",
      "metadata": {
        "id": "6f99fd0b",
        "outputId": "29e5c230-8f7f-4ad0-8418-9a739e185e41"
      },
      "outputs": [
        {
          "data": {
            "text/plain": [
              "['8.1',\n",
              " '6.8',\n",
              " '6.4',\n",
              " '7.1',\n",
              " '7.4',\n",
              " '7.6',\n",
              " '7.6',\n",
              " '7.5',\n",
              " '7',\n",
              " '8',\n",
              " '6.8',\n",
              " '8.9',\n",
              " '7.3',\n",
              " '7',\n",
              " '6.8',\n",
              " '6.5',\n",
              " '6.6',\n",
              " '6.8',\n",
              " '7.6',\n",
              " '7.3',\n",
              " '7.1',\n",
              " '7.8',\n",
              " '7.9',\n",
              " '6.2',\n",
              " '6.1']"
            ]
          },
          "execution_count": 27,
          "metadata": {},
          "output_type": "execute_result"
        }
      ],
      "source": [
        "ydsatt=[]\n",
        "for i in pass_stat.find_all(\"tr\")[0:25:1]:\n",
        "    ya=i.find_all(\"td\")[2]\n",
        "    ydsatt.append(ya.text)\n",
        "ydsatt"
      ]
    },
    {
      "cell_type": "code",
      "execution_count": null,
      "id": "b3e524d9",
      "metadata": {
        "id": "b3e524d9",
        "outputId": "5807ff67-1956-4f81-98c6-4229ab25ad44"
      },
      "outputs": [
        {
          "data": {
            "text/plain": [
              "['648',\n",
              " '699',\n",
              " '733',\n",
              " '643',\n",
              " '606',\n",
              " '587',\n",
              " '567',\n",
              " '572',\n",
              " '584',\n",
              " '460',\n",
              " '542',\n",
              " '400',\n",
              " '483',\n",
              " '502',\n",
              " '472',\n",
              " '479',\n",
              " '461',\n",
              " '442',\n",
              " '378',\n",
              " '394',\n",
              " '369',\n",
              " '325',\n",
              " '308',\n",
              " '389',\n",
              " '390']"
            ]
          },
          "execution_count": 28,
          "metadata": {},
          "output_type": "execute_result"
        }
      ],
      "source": [
        "attempt=[]\n",
        "for i in pass_stat.find_all(\"tr\")[0:25:1]:\n",
        "    att=i.find_all(\"td\")[3]\n",
        "    attempt.append(att.text)\n",
        "attempt"
      ]
    },
    {
      "cell_type": "code",
      "execution_count": null,
      "id": "e388e1c4",
      "metadata": {
        "id": "e388e1c4",
        "outputId": "6ff23f57-67f2-405b-d409-9d5754729eb3"
      },
      "outputs": [
        {
          "data": {
            "text/plain": [
              "['435',\n",
              " '477',\n",
              " '490',\n",
              " '424',\n",
              " '414',\n",
              " '382',\n",
              " '359',\n",
              " '399',\n",
              " '387',\n",
              " '306',\n",
              " '350',\n",
              " '259',\n",
              " '292',\n",
              " '305',\n",
              " '317',\n",
              " '292',\n",
              " '309',\n",
              " '288',\n",
              " '252',\n",
              " '261',\n",
              " '236',\n",
              " '212',\n",
              " '207',\n",
              " '245',\n",
              " '259']"
            ]
          },
          "execution_count": 29,
          "metadata": {},
          "output_type": "execute_result"
        }
      ],
      "source": [
        "completion=[]\n",
        "for i in pass_stat.find_all(\"tr\")[0:25:1]:\n",
        "    cmp=i.find_all(\"td\")[4]\n",
        "    completion.append(cmp.text)\n",
        "completion"
      ]
    },
    {
      "cell_type": "code",
      "execution_count": null,
      "id": "a59ddc88",
      "metadata": {
        "id": "a59ddc88",
        "outputId": "ea13fcc4-459f-445b-9a3f-4a0974b15426"
      },
      "outputs": [
        {
          "data": {
            "text/plain": [
              "['67.1',\n",
              " '68.2',\n",
              " '66.8',\n",
              " '65.9',\n",
              " '68.3',\n",
              " '65.1',\n",
              " '63.3',\n",
              " '69.8',\n",
              " '66.3',\n",
              " '66.5',\n",
              " '64.6',\n",
              " '64.8',\n",
              " '60.5',\n",
              " '60.8',\n",
              " '67.2',\n",
              " '61',\n",
              " '67',\n",
              " '65.2',\n",
              " '66.7',\n",
              " '66.2',\n",
              " '64',\n",
              " '65.2',\n",
              " '67.2',\n",
              " '63',\n",
              " '66.4']"
            ]
          },
          "execution_count": 30,
          "metadata": {},
          "output_type": "execute_result"
        }
      ],
      "source": [
        "completion_per=[]\n",
        "for i in pass_stat.find_all(\"tr\")[0:25:1]:\n",
        "    cmp_per=i.find_all(\"td\")[5]\n",
        "    completion_per.append(cmp_per.text)\n",
        "completion_per"
      ]
    },
    {
      "cell_type": "code",
      "execution_count": null,
      "id": "0801d16b",
      "metadata": {
        "id": "0801d16b",
        "outputId": "144508c7-6ce3-4d67-97a9-357c87cbe958"
      },
      "outputs": [
        {
          "data": {
            "text/plain": [
              "['41',\n",
              " '25',\n",
              " '25',\n",
              " '29',\n",
              " '35',\n",
              " '29',\n",
              " '35',\n",
              " '30',\n",
              " '25',\n",
              " '22',\n",
              " '26',\n",
              " '25',\n",
              " '16',\n",
              " '24',\n",
              " '15',\n",
              " '17',\n",
              " '14',\n",
              " '14',\n",
              " '18',\n",
              " '23',\n",
              " '12',\n",
              " '13',\n",
              " '16',\n",
              " '7',\n",
              " '14']"
            ]
          },
          "execution_count": 31,
          "metadata": {},
          "output_type": "execute_result"
        }
      ],
      "source": [
        "touch_down=[]\n",
        "for i in pass_stat.find_all(\"tr\")[0:25:1]:\n",
        "    tdw=i.find_all(\"td\")[6]\n",
        "    touch_down.append(tdw.text)\n",
        "touch_down"
      ]
    },
    {
      "cell_type": "code",
      "execution_count": null,
      "id": "ef770ed5",
      "metadata": {
        "id": "ef770ed5",
        "outputId": "5fd134db-f7ef-41ed-f14b-145eea4ba445"
      },
      "outputs": [
        {
          "data": {
            "text/plain": [
              "['12',\n",
              " '10',\n",
              " '9',\n",
              " '14',\n",
              " '12',\n",
              " '7',\n",
              " '14',\n",
              " '11',\n",
              " '8',\n",
              " '6',\n",
              " '12',\n",
              " '8',\n",
              " '11',\n",
              " '14',\n",
              " '5',\n",
              " '15',\n",
              " '13',\n",
              " '11',\n",
              " '9',\n",
              " '15',\n",
              " '6',\n",
              " '6',\n",
              " '4',\n",
              " '9',\n",
              " '7']"
            ]
          },
          "execution_count": 33,
          "metadata": {},
          "output_type": "execute_result"
        }
      ],
      "source": [
        "interception=[]\n",
        "for i in pass_stat.find_all(\"tr\")[0:25:1]:\n",
        "    inter=i.find_all(\"td\")[7]\n",
        "    interception.append(inter.text)\n",
        "interception"
      ]
    },
    {
      "cell_type": "code",
      "execution_count": null,
      "id": "029ed1a5",
      "metadata": {
        "id": "029ed1a5"
      },
      "outputs": [],
      "source": [
        "data={\"player\":player,\"passyards\":passyds,\"yardattempt\":ydsatt,\"attempts\":attempt,\"completions\":completion,\"completion_pers\":completion_per,\"touch_downs\":touch_down,\"interceptions\":interception}"
      ]
    },
    {
      "cell_type": "code",
      "execution_count": null,
      "id": "06ec7eac",
      "metadata": {
        "id": "06ec7eac",
        "outputId": "2bbfdb62-c304-4f28-d7a6-8c4ed1368977"
      },
      "outputs": [
        {
          "data": {
            "text/plain": [
              "{'player': [' Patrick Mahomes ',\n",
              "  ' Justin Herbert ',\n",
              "  ' Tom Brady ',\n",
              "  ' Kirk Cousins ',\n",
              "  ' Joe Burrow ',\n",
              "  ' Jared Goff ',\n",
              "  ' Josh Allen ',\n",
              "  ' Geno Smith ',\n",
              "  ' Trevor Lawrence ',\n",
              "  ' Jalen Hurts ',\n",
              "  ' Aaron Rodgers ',\n",
              "  ' Tua Tagovailoa ',\n",
              "  ' Russell Wilson ',\n",
              "  ' Derek Carr ',\n",
              "  ' Daniel Jones ',\n",
              "  ' Davis Mills ',\n",
              "  ' Matt Ryan ',\n",
              "  ' Mac Jones ',\n",
              "  ' Andy Dalton ',\n",
              "  ' Dak Prescott ',\n",
              "  ' Jacoby Brissett ',\n",
              "  ' Ryan Tannehill ',\n",
              "  ' Jimmy Garoppolo ',\n",
              "  ' Kenny Pickett ',\n",
              "  ' Kyler Murray '],\n",
              " 'passyards': ['5250',\n",
              "  '4739',\n",
              "  '4694',\n",
              "  '4547',\n",
              "  '4475',\n",
              "  '4438',\n",
              "  '4283',\n",
              "  '4282',\n",
              "  '4113',\n",
              "  '3701',\n",
              "  '3695',\n",
              "  '3548',\n",
              "  '3524',\n",
              "  '3522',\n",
              "  '3205',\n",
              "  '3118',\n",
              "  '3057',\n",
              "  '2997',\n",
              "  '2871',\n",
              "  '2860',\n",
              "  '2608',\n",
              "  '2536',\n",
              "  '2437',\n",
              "  '2404',\n",
              "  '2368'],\n",
              " 'yardattempt': ['8.1',\n",
              "  '6.8',\n",
              "  '6.4',\n",
              "  '7.1',\n",
              "  '7.4',\n",
              "  '7.6',\n",
              "  '7.6',\n",
              "  '7.5',\n",
              "  '7',\n",
              "  '8',\n",
              "  '6.8',\n",
              "  '8.9',\n",
              "  '7.3',\n",
              "  '7',\n",
              "  '6.8',\n",
              "  '6.5',\n",
              "  '6.6',\n",
              "  '6.8',\n",
              "  '7.6',\n",
              "  '7.3',\n",
              "  '7.1',\n",
              "  '7.8',\n",
              "  '7.9',\n",
              "  '6.2',\n",
              "  '6.1'],\n",
              " 'attempts': ['648',\n",
              "  '699',\n",
              "  '733',\n",
              "  '643',\n",
              "  '606',\n",
              "  '587',\n",
              "  '567',\n",
              "  '572',\n",
              "  '584',\n",
              "  '460',\n",
              "  '542',\n",
              "  '400',\n",
              "  '483',\n",
              "  '502',\n",
              "  '472',\n",
              "  '479',\n",
              "  '461',\n",
              "  '442',\n",
              "  '378',\n",
              "  '394',\n",
              "  '369',\n",
              "  '325',\n",
              "  '308',\n",
              "  '389',\n",
              "  '390'],\n",
              " 'completions': ['435',\n",
              "  '477',\n",
              "  '490',\n",
              "  '424',\n",
              "  '414',\n",
              "  '382',\n",
              "  '359',\n",
              "  '399',\n",
              "  '387',\n",
              "  '306',\n",
              "  '350',\n",
              "  '259',\n",
              "  '292',\n",
              "  '305',\n",
              "  '317',\n",
              "  '292',\n",
              "  '309',\n",
              "  '288',\n",
              "  '252',\n",
              "  '261',\n",
              "  '236',\n",
              "  '212',\n",
              "  '207',\n",
              "  '245',\n",
              "  '259'],\n",
              " 'completion_pers': ['67.1',\n",
              "  '68.2',\n",
              "  '66.8',\n",
              "  '65.9',\n",
              "  '68.3',\n",
              "  '65.1',\n",
              "  '63.3',\n",
              "  '69.8',\n",
              "  '66.3',\n",
              "  '66.5',\n",
              "  '64.6',\n",
              "  '64.8',\n",
              "  '60.5',\n",
              "  '60.8',\n",
              "  '67.2',\n",
              "  '61',\n",
              "  '67',\n",
              "  '65.2',\n",
              "  '66.7',\n",
              "  '66.2',\n",
              "  '64',\n",
              "  '65.2',\n",
              "  '67.2',\n",
              "  '63',\n",
              "  '66.4'],\n",
              " 'touch_downs': ['41',\n",
              "  '25',\n",
              "  '25',\n",
              "  '29',\n",
              "  '35',\n",
              "  '29',\n",
              "  '35',\n",
              "  '30',\n",
              "  '25',\n",
              "  '22',\n",
              "  '26',\n",
              "  '25',\n",
              "  '16',\n",
              "  '24',\n",
              "  '15',\n",
              "  '17',\n",
              "  '14',\n",
              "  '14',\n",
              "  '18',\n",
              "  '23',\n",
              "  '12',\n",
              "  '13',\n",
              "  '16',\n",
              "  '7',\n",
              "  '14'],\n",
              " 'interceptions': ['12',\n",
              "  '10',\n",
              "  '9',\n",
              "  '14',\n",
              "  '12',\n",
              "  '7',\n",
              "  '14',\n",
              "  '11',\n",
              "  '8',\n",
              "  '6',\n",
              "  '12',\n",
              "  '8',\n",
              "  '11',\n",
              "  '14',\n",
              "  '5',\n",
              "  '15',\n",
              "  '13',\n",
              "  '11',\n",
              "  '9',\n",
              "  '15',\n",
              "  '6',\n",
              "  '6',\n",
              "  '4',\n",
              "  '9',\n",
              "  '7']}"
            ]
          },
          "execution_count": 35,
          "metadata": {},
          "output_type": "execute_result"
        }
      ],
      "source": [
        "data"
      ]
    },
    {
      "cell_type": "code",
      "execution_count": null,
      "id": "3ffe802e",
      "metadata": {
        "id": "3ffe802e",
        "outputId": "3870d3d6-e4b0-4d6f-d8e8-c9c22733bfd2"
      },
      "outputs": [
        {
          "name": "stdout",
          "output_type": "stream",
          "text": [
            "Requirement already satisfied: pandas in c:\\users\\student\\anaconda3\\lib\\site-packages (1.2.4)\n",
            "Requirement already satisfied: numpy>=1.16.5 in c:\\users\\student\\anaconda3\\lib\\site-packages (from pandas) (1.20.1)\n",
            "Requirement already satisfied: pytz>=2017.3 in c:\\users\\student\\anaconda3\\lib\\site-packages (from pandas) (2021.1)\n",
            "Requirement already satisfied: python-dateutil>=2.7.3 in c:\\users\\student\\anaconda3\\lib\\site-packages (from pandas) (2.8.1)\n",
            "Requirement already satisfied: six>=1.5 in c:\\users\\student\\anaconda3\\lib\\site-packages (from python-dateutil>=2.7.3->pandas) (1.15.0)\n",
            "Note: you may need to restart the kernel to use updated packages.\n"
          ]
        }
      ],
      "source": [
        "pip install pandas"
      ]
    },
    {
      "cell_type": "code",
      "execution_count": null,
      "id": "6ea7cb98",
      "metadata": {
        "id": "6ea7cb98",
        "outputId": "23c04b9b-25a4-4bda-f3aa-b8ed45af1b83"
      },
      "outputs": [
        {
          "data": {
            "text/html": [
              "<div>\n",
              "<style scoped>\n",
              "    .dataframe tbody tr th:only-of-type {\n",
              "        vertical-align: middle;\n",
              "    }\n",
              "\n",
              "    .dataframe tbody tr th {\n",
              "        vertical-align: top;\n",
              "    }\n",
              "\n",
              "    .dataframe thead th {\n",
              "        text-align: right;\n",
              "    }\n",
              "</style>\n",
              "<table border=\"1\" class=\"dataframe\">\n",
              "  <thead>\n",
              "    <tr style=\"text-align: right;\">\n",
              "      <th></th>\n",
              "      <th>player</th>\n",
              "      <th>passyards</th>\n",
              "      <th>yardattempt</th>\n",
              "      <th>attempts</th>\n",
              "      <th>completions</th>\n",
              "      <th>completion_pers</th>\n",
              "      <th>touch_downs</th>\n",
              "      <th>interceptions</th>\n",
              "    </tr>\n",
              "  </thead>\n",
              "  <tbody>\n",
              "    <tr>\n",
              "      <th>1</th>\n",
              "      <td>Patrick Mahomes</td>\n",
              "      <td>5250</td>\n",
              "      <td>8.1</td>\n",
              "      <td>648</td>\n",
              "      <td>435</td>\n",
              "      <td>67.1</td>\n",
              "      <td>41</td>\n",
              "      <td>12</td>\n",
              "    </tr>\n",
              "    <tr>\n",
              "      <th>2</th>\n",
              "      <td>Justin Herbert</td>\n",
              "      <td>4739</td>\n",
              "      <td>6.8</td>\n",
              "      <td>699</td>\n",
              "      <td>477</td>\n",
              "      <td>68.2</td>\n",
              "      <td>25</td>\n",
              "      <td>10</td>\n",
              "    </tr>\n",
              "    <tr>\n",
              "      <th>3</th>\n",
              "      <td>Tom Brady</td>\n",
              "      <td>4694</td>\n",
              "      <td>6.4</td>\n",
              "      <td>733</td>\n",
              "      <td>490</td>\n",
              "      <td>66.8</td>\n",
              "      <td>25</td>\n",
              "      <td>9</td>\n",
              "    </tr>\n",
              "    <tr>\n",
              "      <th>4</th>\n",
              "      <td>Kirk Cousins</td>\n",
              "      <td>4547</td>\n",
              "      <td>7.1</td>\n",
              "      <td>643</td>\n",
              "      <td>424</td>\n",
              "      <td>65.9</td>\n",
              "      <td>29</td>\n",
              "      <td>14</td>\n",
              "    </tr>\n",
              "    <tr>\n",
              "      <th>5</th>\n",
              "      <td>Joe Burrow</td>\n",
              "      <td>4475</td>\n",
              "      <td>7.4</td>\n",
              "      <td>606</td>\n",
              "      <td>414</td>\n",
              "      <td>68.3</td>\n",
              "      <td>35</td>\n",
              "      <td>12</td>\n",
              "    </tr>\n",
              "    <tr>\n",
              "      <th>6</th>\n",
              "      <td>Jared Goff</td>\n",
              "      <td>4438</td>\n",
              "      <td>7.6</td>\n",
              "      <td>587</td>\n",
              "      <td>382</td>\n",
              "      <td>65.1</td>\n",
              "      <td>29</td>\n",
              "      <td>7</td>\n",
              "    </tr>\n",
              "    <tr>\n",
              "      <th>7</th>\n",
              "      <td>Josh Allen</td>\n",
              "      <td>4283</td>\n",
              "      <td>7.6</td>\n",
              "      <td>567</td>\n",
              "      <td>359</td>\n",
              "      <td>63.3</td>\n",
              "      <td>35</td>\n",
              "      <td>14</td>\n",
              "    </tr>\n",
              "    <tr>\n",
              "      <th>8</th>\n",
              "      <td>Geno Smith</td>\n",
              "      <td>4282</td>\n",
              "      <td>7.5</td>\n",
              "      <td>572</td>\n",
              "      <td>399</td>\n",
              "      <td>69.8</td>\n",
              "      <td>30</td>\n",
              "      <td>11</td>\n",
              "    </tr>\n",
              "    <tr>\n",
              "      <th>9</th>\n",
              "      <td>Trevor Lawrence</td>\n",
              "      <td>4113</td>\n",
              "      <td>7</td>\n",
              "      <td>584</td>\n",
              "      <td>387</td>\n",
              "      <td>66.3</td>\n",
              "      <td>25</td>\n",
              "      <td>8</td>\n",
              "    </tr>\n",
              "    <tr>\n",
              "      <th>10</th>\n",
              "      <td>Jalen Hurts</td>\n",
              "      <td>3701</td>\n",
              "      <td>8</td>\n",
              "      <td>460</td>\n",
              "      <td>306</td>\n",
              "      <td>66.5</td>\n",
              "      <td>22</td>\n",
              "      <td>6</td>\n",
              "    </tr>\n",
              "    <tr>\n",
              "      <th>11</th>\n",
              "      <td>Aaron Rodgers</td>\n",
              "      <td>3695</td>\n",
              "      <td>6.8</td>\n",
              "      <td>542</td>\n",
              "      <td>350</td>\n",
              "      <td>64.6</td>\n",
              "      <td>26</td>\n",
              "      <td>12</td>\n",
              "    </tr>\n",
              "    <tr>\n",
              "      <th>12</th>\n",
              "      <td>Tua Tagovailoa</td>\n",
              "      <td>3548</td>\n",
              "      <td>8.9</td>\n",
              "      <td>400</td>\n",
              "      <td>259</td>\n",
              "      <td>64.8</td>\n",
              "      <td>25</td>\n",
              "      <td>8</td>\n",
              "    </tr>\n",
              "    <tr>\n",
              "      <th>13</th>\n",
              "      <td>Russell Wilson</td>\n",
              "      <td>3524</td>\n",
              "      <td>7.3</td>\n",
              "      <td>483</td>\n",
              "      <td>292</td>\n",
              "      <td>60.5</td>\n",
              "      <td>16</td>\n",
              "      <td>11</td>\n",
              "    </tr>\n",
              "    <tr>\n",
              "      <th>14</th>\n",
              "      <td>Derek Carr</td>\n",
              "      <td>3522</td>\n",
              "      <td>7</td>\n",
              "      <td>502</td>\n",
              "      <td>305</td>\n",
              "      <td>60.8</td>\n",
              "      <td>24</td>\n",
              "      <td>14</td>\n",
              "    </tr>\n",
              "    <tr>\n",
              "      <th>15</th>\n",
              "      <td>Daniel Jones</td>\n",
              "      <td>3205</td>\n",
              "      <td>6.8</td>\n",
              "      <td>472</td>\n",
              "      <td>317</td>\n",
              "      <td>67.2</td>\n",
              "      <td>15</td>\n",
              "      <td>5</td>\n",
              "    </tr>\n",
              "    <tr>\n",
              "      <th>16</th>\n",
              "      <td>Davis Mills</td>\n",
              "      <td>3118</td>\n",
              "      <td>6.5</td>\n",
              "      <td>479</td>\n",
              "      <td>292</td>\n",
              "      <td>61</td>\n",
              "      <td>17</td>\n",
              "      <td>15</td>\n",
              "    </tr>\n",
              "    <tr>\n",
              "      <th>17</th>\n",
              "      <td>Matt Ryan</td>\n",
              "      <td>3057</td>\n",
              "      <td>6.6</td>\n",
              "      <td>461</td>\n",
              "      <td>309</td>\n",
              "      <td>67</td>\n",
              "      <td>14</td>\n",
              "      <td>13</td>\n",
              "    </tr>\n",
              "    <tr>\n",
              "      <th>18</th>\n",
              "      <td>Mac Jones</td>\n",
              "      <td>2997</td>\n",
              "      <td>6.8</td>\n",
              "      <td>442</td>\n",
              "      <td>288</td>\n",
              "      <td>65.2</td>\n",
              "      <td>14</td>\n",
              "      <td>11</td>\n",
              "    </tr>\n",
              "    <tr>\n",
              "      <th>19</th>\n",
              "      <td>Andy Dalton</td>\n",
              "      <td>2871</td>\n",
              "      <td>7.6</td>\n",
              "      <td>378</td>\n",
              "      <td>252</td>\n",
              "      <td>66.7</td>\n",
              "      <td>18</td>\n",
              "      <td>9</td>\n",
              "    </tr>\n",
              "    <tr>\n",
              "      <th>20</th>\n",
              "      <td>Dak Prescott</td>\n",
              "      <td>2860</td>\n",
              "      <td>7.3</td>\n",
              "      <td>394</td>\n",
              "      <td>261</td>\n",
              "      <td>66.2</td>\n",
              "      <td>23</td>\n",
              "      <td>15</td>\n",
              "    </tr>\n",
              "    <tr>\n",
              "      <th>21</th>\n",
              "      <td>Jacoby Brissett</td>\n",
              "      <td>2608</td>\n",
              "      <td>7.1</td>\n",
              "      <td>369</td>\n",
              "      <td>236</td>\n",
              "      <td>64</td>\n",
              "      <td>12</td>\n",
              "      <td>6</td>\n",
              "    </tr>\n",
              "    <tr>\n",
              "      <th>22</th>\n",
              "      <td>Ryan Tannehill</td>\n",
              "      <td>2536</td>\n",
              "      <td>7.8</td>\n",
              "      <td>325</td>\n",
              "      <td>212</td>\n",
              "      <td>65.2</td>\n",
              "      <td>13</td>\n",
              "      <td>6</td>\n",
              "    </tr>\n",
              "    <tr>\n",
              "      <th>23</th>\n",
              "      <td>Jimmy Garoppolo</td>\n",
              "      <td>2437</td>\n",
              "      <td>7.9</td>\n",
              "      <td>308</td>\n",
              "      <td>207</td>\n",
              "      <td>67.2</td>\n",
              "      <td>16</td>\n",
              "      <td>4</td>\n",
              "    </tr>\n",
              "    <tr>\n",
              "      <th>24</th>\n",
              "      <td>Kenny Pickett</td>\n",
              "      <td>2404</td>\n",
              "      <td>6.2</td>\n",
              "      <td>389</td>\n",
              "      <td>245</td>\n",
              "      <td>63</td>\n",
              "      <td>7</td>\n",
              "      <td>9</td>\n",
              "    </tr>\n",
              "    <tr>\n",
              "      <th>25</th>\n",
              "      <td>Kyler Murray</td>\n",
              "      <td>2368</td>\n",
              "      <td>6.1</td>\n",
              "      <td>390</td>\n",
              "      <td>259</td>\n",
              "      <td>66.4</td>\n",
              "      <td>14</td>\n",
              "      <td>7</td>\n",
              "    </tr>\n",
              "  </tbody>\n",
              "</table>\n",
              "</div>"
            ],
            "text/plain": [
              "               player passyards yardattempt attempts completions  \\\n",
              "1    Patrick Mahomes       5250         8.1      648         435   \n",
              "2     Justin Herbert       4739         6.8      699         477   \n",
              "3          Tom Brady       4694         6.4      733         490   \n",
              "4       Kirk Cousins       4547         7.1      643         424   \n",
              "5         Joe Burrow       4475         7.4      606         414   \n",
              "6         Jared Goff       4438         7.6      587         382   \n",
              "7         Josh Allen       4283         7.6      567         359   \n",
              "8         Geno Smith       4282         7.5      572         399   \n",
              "9    Trevor Lawrence       4113           7      584         387   \n",
              "10       Jalen Hurts       3701           8      460         306   \n",
              "11     Aaron Rodgers       3695         6.8      542         350   \n",
              "12    Tua Tagovailoa       3548         8.9      400         259   \n",
              "13    Russell Wilson       3524         7.3      483         292   \n",
              "14        Derek Carr       3522           7      502         305   \n",
              "15      Daniel Jones       3205         6.8      472         317   \n",
              "16       Davis Mills       3118         6.5      479         292   \n",
              "17         Matt Ryan       3057         6.6      461         309   \n",
              "18         Mac Jones       2997         6.8      442         288   \n",
              "19       Andy Dalton       2871         7.6      378         252   \n",
              "20      Dak Prescott       2860         7.3      394         261   \n",
              "21   Jacoby Brissett       2608         7.1      369         236   \n",
              "22    Ryan Tannehill       2536         7.8      325         212   \n",
              "23   Jimmy Garoppolo       2437         7.9      308         207   \n",
              "24     Kenny Pickett       2404         6.2      389         245   \n",
              "25      Kyler Murray       2368         6.1      390         259   \n",
              "\n",
              "   completion_pers touch_downs interceptions  \n",
              "1             67.1          41            12  \n",
              "2             68.2          25            10  \n",
              "3             66.8          25             9  \n",
              "4             65.9          29            14  \n",
              "5             68.3          35            12  \n",
              "6             65.1          29             7  \n",
              "7             63.3          35            14  \n",
              "8             69.8          30            11  \n",
              "9             66.3          25             8  \n",
              "10            66.5          22             6  \n",
              "11            64.6          26            12  \n",
              "12            64.8          25             8  \n",
              "13            60.5          16            11  \n",
              "14            60.8          24            14  \n",
              "15            67.2          15             5  \n",
              "16              61          17            15  \n",
              "17              67          14            13  \n",
              "18            65.2          14            11  \n",
              "19            66.7          18             9  \n",
              "20            66.2          23            15  \n",
              "21              64          12             6  \n",
              "22            65.2          13             6  \n",
              "23            67.2          16             4  \n",
              "24              63           7             9  \n",
              "25            66.4          14             7  "
            ]
          },
          "execution_count": 38,
          "metadata": {},
          "output_type": "execute_result"
        }
      ],
      "source": [
        "import pandas as pd\n",
        "df=pd.DataFrame(data)\n",
        "df.index=df.index+1\n",
        "df"
      ]
    },
    {
      "cell_type": "code",
      "execution_count": null,
      "id": "918ecae4",
      "metadata": {
        "id": "918ecae4"
      },
      "outputs": [],
      "source": [
        "df.to_csv(\"NFL_2022.csv\",index=False)"
      ]
    },
    {
      "cell_type": "code",
      "execution_count": null,
      "id": "8e38fda5",
      "metadata": {
        "id": "8e38fda5"
      },
      "outputs": [],
      "source": []
    }
  ],
  "metadata": {
    "kernelspec": {
      "display_name": "Python 3 (ipykernel)",
      "language": "python",
      "name": "python3"
    },
    "language_info": {
      "codemirror_mode": {
        "name": "ipython",
        "version": 3
      },
      "file_extension": ".py",
      "mimetype": "text/x-python",
      "name": "python",
      "nbconvert_exporter": "python",
      "pygments_lexer": "ipython3",
      "version": "3.10.9"
    },
    "colab": {
      "provenance": [],
      "include_colab_link": true
    }
  },
  "nbformat": 4,
  "nbformat_minor": 5
}